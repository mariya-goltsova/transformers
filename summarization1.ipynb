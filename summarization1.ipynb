{
  "nbformat": 4,
  "nbformat_minor": 0,
  "metadata": {
    "colab": {
      "provenance": [],
      "authorship_tag": "ABX9TyO2JQEvuGo9Oifa3OvoweXj",
      "include_colab_link": true
    },
    "kernelspec": {
      "name": "python3",
      "display_name": "Python 3"
    },
    "language_info": {
      "name": "python"
    },
    "widgets": {
      "application/vnd.jupyter.widget-state+json": {
        "3ac4a7189a8645578505f02d9612454a": {
          "model_module": "@jupyter-widgets/controls",
          "model_name": "HBoxModel",
          "model_module_version": "1.5.0",
          "state": {
            "_dom_classes": [],
            "_model_module": "@jupyter-widgets/controls",
            "_model_module_version": "1.5.0",
            "_model_name": "HBoxModel",
            "_view_count": null,
            "_view_module": "@jupyter-widgets/controls",
            "_view_module_version": "1.5.0",
            "_view_name": "HBoxView",
            "box_style": "",
            "children": [
              "IPY_MODEL_f39a6ccb78ff4c348bfa7ccb9ccbcf85",
              "IPY_MODEL_f187fcb1943743dd90fa45faf73c586d",
              "IPY_MODEL_d16828d3584f477cb91b4b3d6677e860"
            ],
            "layout": "IPY_MODEL_ae0f1abbdbc743f19a255e1b832b373e"
          }
        },
        "f39a6ccb78ff4c348bfa7ccb9ccbcf85": {
          "model_module": "@jupyter-widgets/controls",
          "model_name": "HTMLModel",
          "model_module_version": "1.5.0",
          "state": {
            "_dom_classes": [],
            "_model_module": "@jupyter-widgets/controls",
            "_model_module_version": "1.5.0",
            "_model_name": "HTMLModel",
            "_view_count": null,
            "_view_module": "@jupyter-widgets/controls",
            "_view_module_version": "1.5.0",
            "_view_name": "HTMLView",
            "description": "",
            "description_tooltip": null,
            "layout": "IPY_MODEL_78db558a1dfa4f20bfc8849685fec283",
            "placeholder": "​",
            "style": "IPY_MODEL_e0855494c61c4f33884ff4d7cf63330c",
            "value": "Downloading (…)okenizer_config.json: 100%"
          }
        },
        "f187fcb1943743dd90fa45faf73c586d": {
          "model_module": "@jupyter-widgets/controls",
          "model_name": "FloatProgressModel",
          "model_module_version": "1.5.0",
          "state": {
            "_dom_classes": [],
            "_model_module": "@jupyter-widgets/controls",
            "_model_module_version": "1.5.0",
            "_model_name": "FloatProgressModel",
            "_view_count": null,
            "_view_module": "@jupyter-widgets/controls",
            "_view_module_version": "1.5.0",
            "_view_name": "ProgressView",
            "bar_style": "success",
            "description": "",
            "description_tooltip": null,
            "layout": "IPY_MODEL_1f98754014804d7f97fd334e7bd2a9ee",
            "max": 26,
            "min": 0,
            "orientation": "horizontal",
            "style": "IPY_MODEL_9b1180d9de554a0b9e4da8adbebed772",
            "value": 26
          }
        },
        "d16828d3584f477cb91b4b3d6677e860": {
          "model_module": "@jupyter-widgets/controls",
          "model_name": "HTMLModel",
          "model_module_version": "1.5.0",
          "state": {
            "_dom_classes": [],
            "_model_module": "@jupyter-widgets/controls",
            "_model_module_version": "1.5.0",
            "_model_name": "HTMLModel",
            "_view_count": null,
            "_view_module": "@jupyter-widgets/controls",
            "_view_module_version": "1.5.0",
            "_view_name": "HTMLView",
            "description": "",
            "description_tooltip": null,
            "layout": "IPY_MODEL_07a5f30bad8c4fb89e0a19631f95e8b2",
            "placeholder": "​",
            "style": "IPY_MODEL_57ce5f9f77dc466a897e409ecf00f21e",
            "value": " 26.0/26.0 [00:00&lt;00:00, 257B/s]"
          }
        },
        "ae0f1abbdbc743f19a255e1b832b373e": {
          "model_module": "@jupyter-widgets/base",
          "model_name": "LayoutModel",
          "model_module_version": "1.2.0",
          "state": {
            "_model_module": "@jupyter-widgets/base",
            "_model_module_version": "1.2.0",
            "_model_name": "LayoutModel",
            "_view_count": null,
            "_view_module": "@jupyter-widgets/base",
            "_view_module_version": "1.2.0",
            "_view_name": "LayoutView",
            "align_content": null,
            "align_items": null,
            "align_self": null,
            "border": null,
            "bottom": null,
            "display": null,
            "flex": null,
            "flex_flow": null,
            "grid_area": null,
            "grid_auto_columns": null,
            "grid_auto_flow": null,
            "grid_auto_rows": null,
            "grid_column": null,
            "grid_gap": null,
            "grid_row": null,
            "grid_template_areas": null,
            "grid_template_columns": null,
            "grid_template_rows": null,
            "height": null,
            "justify_content": null,
            "justify_items": null,
            "left": null,
            "margin": null,
            "max_height": null,
            "max_width": null,
            "min_height": null,
            "min_width": null,
            "object_fit": null,
            "object_position": null,
            "order": null,
            "overflow": null,
            "overflow_x": null,
            "overflow_y": null,
            "padding": null,
            "right": null,
            "top": null,
            "visibility": null,
            "width": null
          }
        },
        "78db558a1dfa4f20bfc8849685fec283": {
          "model_module": "@jupyter-widgets/base",
          "model_name": "LayoutModel",
          "model_module_version": "1.2.0",
          "state": {
            "_model_module": "@jupyter-widgets/base",
            "_model_module_version": "1.2.0",
            "_model_name": "LayoutModel",
            "_view_count": null,
            "_view_module": "@jupyter-widgets/base",
            "_view_module_version": "1.2.0",
            "_view_name": "LayoutView",
            "align_content": null,
            "align_items": null,
            "align_self": null,
            "border": null,
            "bottom": null,
            "display": null,
            "flex": null,
            "flex_flow": null,
            "grid_area": null,
            "grid_auto_columns": null,
            "grid_auto_flow": null,
            "grid_auto_rows": null,
            "grid_column": null,
            "grid_gap": null,
            "grid_row": null,
            "grid_template_areas": null,
            "grid_template_columns": null,
            "grid_template_rows": null,
            "height": null,
            "justify_content": null,
            "justify_items": null,
            "left": null,
            "margin": null,
            "max_height": null,
            "max_width": null,
            "min_height": null,
            "min_width": null,
            "object_fit": null,
            "object_position": null,
            "order": null,
            "overflow": null,
            "overflow_x": null,
            "overflow_y": null,
            "padding": null,
            "right": null,
            "top": null,
            "visibility": null,
            "width": null
          }
        },
        "e0855494c61c4f33884ff4d7cf63330c": {
          "model_module": "@jupyter-widgets/controls",
          "model_name": "DescriptionStyleModel",
          "model_module_version": "1.5.0",
          "state": {
            "_model_module": "@jupyter-widgets/controls",
            "_model_module_version": "1.5.0",
            "_model_name": "DescriptionStyleModel",
            "_view_count": null,
            "_view_module": "@jupyter-widgets/base",
            "_view_module_version": "1.2.0",
            "_view_name": "StyleView",
            "description_width": ""
          }
        },
        "1f98754014804d7f97fd334e7bd2a9ee": {
          "model_module": "@jupyter-widgets/base",
          "model_name": "LayoutModel",
          "model_module_version": "1.2.0",
          "state": {
            "_model_module": "@jupyter-widgets/base",
            "_model_module_version": "1.2.0",
            "_model_name": "LayoutModel",
            "_view_count": null,
            "_view_module": "@jupyter-widgets/base",
            "_view_module_version": "1.2.0",
            "_view_name": "LayoutView",
            "align_content": null,
            "align_items": null,
            "align_self": null,
            "border": null,
            "bottom": null,
            "display": null,
            "flex": null,
            "flex_flow": null,
            "grid_area": null,
            "grid_auto_columns": null,
            "grid_auto_flow": null,
            "grid_auto_rows": null,
            "grid_column": null,
            "grid_gap": null,
            "grid_row": null,
            "grid_template_areas": null,
            "grid_template_columns": null,
            "grid_template_rows": null,
            "height": null,
            "justify_content": null,
            "justify_items": null,
            "left": null,
            "margin": null,
            "max_height": null,
            "max_width": null,
            "min_height": null,
            "min_width": null,
            "object_fit": null,
            "object_position": null,
            "order": null,
            "overflow": null,
            "overflow_x": null,
            "overflow_y": null,
            "padding": null,
            "right": null,
            "top": null,
            "visibility": null,
            "width": null
          }
        },
        "9b1180d9de554a0b9e4da8adbebed772": {
          "model_module": "@jupyter-widgets/controls",
          "model_name": "ProgressStyleModel",
          "model_module_version": "1.5.0",
          "state": {
            "_model_module": "@jupyter-widgets/controls",
            "_model_module_version": "1.5.0",
            "_model_name": "ProgressStyleModel",
            "_view_count": null,
            "_view_module": "@jupyter-widgets/base",
            "_view_module_version": "1.2.0",
            "_view_name": "StyleView",
            "bar_color": null,
            "description_width": ""
          }
        },
        "07a5f30bad8c4fb89e0a19631f95e8b2": {
          "model_module": "@jupyter-widgets/base",
          "model_name": "LayoutModel",
          "model_module_version": "1.2.0",
          "state": {
            "_model_module": "@jupyter-widgets/base",
            "_model_module_version": "1.2.0",
            "_model_name": "LayoutModel",
            "_view_count": null,
            "_view_module": "@jupyter-widgets/base",
            "_view_module_version": "1.2.0",
            "_view_name": "LayoutView",
            "align_content": null,
            "align_items": null,
            "align_self": null,
            "border": null,
            "bottom": null,
            "display": null,
            "flex": null,
            "flex_flow": null,
            "grid_area": null,
            "grid_auto_columns": null,
            "grid_auto_flow": null,
            "grid_auto_rows": null,
            "grid_column": null,
            "grid_gap": null,
            "grid_row": null,
            "grid_template_areas": null,
            "grid_template_columns": null,
            "grid_template_rows": null,
            "height": null,
            "justify_content": null,
            "justify_items": null,
            "left": null,
            "margin": null,
            "max_height": null,
            "max_width": null,
            "min_height": null,
            "min_width": null,
            "object_fit": null,
            "object_position": null,
            "order": null,
            "overflow": null,
            "overflow_x": null,
            "overflow_y": null,
            "padding": null,
            "right": null,
            "top": null,
            "visibility": null,
            "width": null
          }
        },
        "57ce5f9f77dc466a897e409ecf00f21e": {
          "model_module": "@jupyter-widgets/controls",
          "model_name": "DescriptionStyleModel",
          "model_module_version": "1.5.0",
          "state": {
            "_model_module": "@jupyter-widgets/controls",
            "_model_module_version": "1.5.0",
            "_model_name": "DescriptionStyleModel",
            "_view_count": null,
            "_view_module": "@jupyter-widgets/base",
            "_view_module_version": "1.2.0",
            "_view_name": "StyleView",
            "description_width": ""
          }
        },
        "e18a31105653450990dc26ce0ebb1aaf": {
          "model_module": "@jupyter-widgets/controls",
          "model_name": "HBoxModel",
          "model_module_version": "1.5.0",
          "state": {
            "_dom_classes": [],
            "_model_module": "@jupyter-widgets/controls",
            "_model_module_version": "1.5.0",
            "_model_name": "HBoxModel",
            "_view_count": null,
            "_view_module": "@jupyter-widgets/controls",
            "_view_module_version": "1.5.0",
            "_view_name": "HBoxView",
            "box_style": "",
            "children": [
              "IPY_MODEL_85ed25d420df40228ae8772bea438805",
              "IPY_MODEL_b2656a86139447f88cb2c175b970b4f0",
              "IPY_MODEL_828ed1251f064e7b8d5a8882975990d1"
            ],
            "layout": "IPY_MODEL_aa165fbb3a4346b99ade90a114689fbf"
          }
        },
        "85ed25d420df40228ae8772bea438805": {
          "model_module": "@jupyter-widgets/controls",
          "model_name": "HTMLModel",
          "model_module_version": "1.5.0",
          "state": {
            "_dom_classes": [],
            "_model_module": "@jupyter-widgets/controls",
            "_model_module_version": "1.5.0",
            "_model_name": "HTMLModel",
            "_view_count": null,
            "_view_module": "@jupyter-widgets/controls",
            "_view_module_version": "1.5.0",
            "_view_name": "HTMLView",
            "description": "",
            "description_tooltip": null,
            "layout": "IPY_MODEL_3dabd93a43a94251bea572af0dff670b",
            "placeholder": "​",
            "style": "IPY_MODEL_7bccdf8015ab47afaa786409b0f523d3",
            "value": "Downloading (…)lve/main/config.json: 100%"
          }
        },
        "b2656a86139447f88cb2c175b970b4f0": {
          "model_module": "@jupyter-widgets/controls",
          "model_name": "FloatProgressModel",
          "model_module_version": "1.5.0",
          "state": {
            "_dom_classes": [],
            "_model_module": "@jupyter-widgets/controls",
            "_model_module_version": "1.5.0",
            "_model_name": "FloatProgressModel",
            "_view_count": null,
            "_view_module": "@jupyter-widgets/controls",
            "_view_module_version": "1.5.0",
            "_view_name": "ProgressView",
            "bar_style": "success",
            "description": "",
            "description_tooltip": null,
            "layout": "IPY_MODEL_579bfef232c84f25816ce23025d291c6",
            "max": 1802,
            "min": 0,
            "orientation": "horizontal",
            "style": "IPY_MODEL_1ec139cc5de84266987046c07d06cf7c",
            "value": 1802
          }
        },
        "828ed1251f064e7b8d5a8882975990d1": {
          "model_module": "@jupyter-widgets/controls",
          "model_name": "HTMLModel",
          "model_module_version": "1.5.0",
          "state": {
            "_dom_classes": [],
            "_model_module": "@jupyter-widgets/controls",
            "_model_module_version": "1.5.0",
            "_model_name": "HTMLModel",
            "_view_count": null,
            "_view_module": "@jupyter-widgets/controls",
            "_view_module_version": "1.5.0",
            "_view_name": "HTMLView",
            "description": "",
            "description_tooltip": null,
            "layout": "IPY_MODEL_42f23cc3ef50401d87c0cb097995a2e0",
            "placeholder": "​",
            "style": "IPY_MODEL_31cdf3b525434b36963e70efb67fc38f",
            "value": " 1.80k/1.80k [00:00&lt;00:00, 24.0kB/s]"
          }
        },
        "aa165fbb3a4346b99ade90a114689fbf": {
          "model_module": "@jupyter-widgets/base",
          "model_name": "LayoutModel",
          "model_module_version": "1.2.0",
          "state": {
            "_model_module": "@jupyter-widgets/base",
            "_model_module_version": "1.2.0",
            "_model_name": "LayoutModel",
            "_view_count": null,
            "_view_module": "@jupyter-widgets/base",
            "_view_module_version": "1.2.0",
            "_view_name": "LayoutView",
            "align_content": null,
            "align_items": null,
            "align_self": null,
            "border": null,
            "bottom": null,
            "display": null,
            "flex": null,
            "flex_flow": null,
            "grid_area": null,
            "grid_auto_columns": null,
            "grid_auto_flow": null,
            "grid_auto_rows": null,
            "grid_column": null,
            "grid_gap": null,
            "grid_row": null,
            "grid_template_areas": null,
            "grid_template_columns": null,
            "grid_template_rows": null,
            "height": null,
            "justify_content": null,
            "justify_items": null,
            "left": null,
            "margin": null,
            "max_height": null,
            "max_width": null,
            "min_height": null,
            "min_width": null,
            "object_fit": null,
            "object_position": null,
            "order": null,
            "overflow": null,
            "overflow_x": null,
            "overflow_y": null,
            "padding": null,
            "right": null,
            "top": null,
            "visibility": null,
            "width": null
          }
        },
        "3dabd93a43a94251bea572af0dff670b": {
          "model_module": "@jupyter-widgets/base",
          "model_name": "LayoutModel",
          "model_module_version": "1.2.0",
          "state": {
            "_model_module": "@jupyter-widgets/base",
            "_model_module_version": "1.2.0",
            "_model_name": "LayoutModel",
            "_view_count": null,
            "_view_module": "@jupyter-widgets/base",
            "_view_module_version": "1.2.0",
            "_view_name": "LayoutView",
            "align_content": null,
            "align_items": null,
            "align_self": null,
            "border": null,
            "bottom": null,
            "display": null,
            "flex": null,
            "flex_flow": null,
            "grid_area": null,
            "grid_auto_columns": null,
            "grid_auto_flow": null,
            "grid_auto_rows": null,
            "grid_column": null,
            "grid_gap": null,
            "grid_row": null,
            "grid_template_areas": null,
            "grid_template_columns": null,
            "grid_template_rows": null,
            "height": null,
            "justify_content": null,
            "justify_items": null,
            "left": null,
            "margin": null,
            "max_height": null,
            "max_width": null,
            "min_height": null,
            "min_width": null,
            "object_fit": null,
            "object_position": null,
            "order": null,
            "overflow": null,
            "overflow_x": null,
            "overflow_y": null,
            "padding": null,
            "right": null,
            "top": null,
            "visibility": null,
            "width": null
          }
        },
        "7bccdf8015ab47afaa786409b0f523d3": {
          "model_module": "@jupyter-widgets/controls",
          "model_name": "DescriptionStyleModel",
          "model_module_version": "1.5.0",
          "state": {
            "_model_module": "@jupyter-widgets/controls",
            "_model_module_version": "1.5.0",
            "_model_name": "DescriptionStyleModel",
            "_view_count": null,
            "_view_module": "@jupyter-widgets/base",
            "_view_module_version": "1.2.0",
            "_view_name": "StyleView",
            "description_width": ""
          }
        },
        "579bfef232c84f25816ce23025d291c6": {
          "model_module": "@jupyter-widgets/base",
          "model_name": "LayoutModel",
          "model_module_version": "1.2.0",
          "state": {
            "_model_module": "@jupyter-widgets/base",
            "_model_module_version": "1.2.0",
            "_model_name": "LayoutModel",
            "_view_count": null,
            "_view_module": "@jupyter-widgets/base",
            "_view_module_version": "1.2.0",
            "_view_name": "LayoutView",
            "align_content": null,
            "align_items": null,
            "align_self": null,
            "border": null,
            "bottom": null,
            "display": null,
            "flex": null,
            "flex_flow": null,
            "grid_area": null,
            "grid_auto_columns": null,
            "grid_auto_flow": null,
            "grid_auto_rows": null,
            "grid_column": null,
            "grid_gap": null,
            "grid_row": null,
            "grid_template_areas": null,
            "grid_template_columns": null,
            "grid_template_rows": null,
            "height": null,
            "justify_content": null,
            "justify_items": null,
            "left": null,
            "margin": null,
            "max_height": null,
            "max_width": null,
            "min_height": null,
            "min_width": null,
            "object_fit": null,
            "object_position": null,
            "order": null,
            "overflow": null,
            "overflow_x": null,
            "overflow_y": null,
            "padding": null,
            "right": null,
            "top": null,
            "visibility": null,
            "width": null
          }
        },
        "1ec139cc5de84266987046c07d06cf7c": {
          "model_module": "@jupyter-widgets/controls",
          "model_name": "ProgressStyleModel",
          "model_module_version": "1.5.0",
          "state": {
            "_model_module": "@jupyter-widgets/controls",
            "_model_module_version": "1.5.0",
            "_model_name": "ProgressStyleModel",
            "_view_count": null,
            "_view_module": "@jupyter-widgets/base",
            "_view_module_version": "1.2.0",
            "_view_name": "StyleView",
            "bar_color": null,
            "description_width": ""
          }
        },
        "42f23cc3ef50401d87c0cb097995a2e0": {
          "model_module": "@jupyter-widgets/base",
          "model_name": "LayoutModel",
          "model_module_version": "1.2.0",
          "state": {
            "_model_module": "@jupyter-widgets/base",
            "_model_module_version": "1.2.0",
            "_model_name": "LayoutModel",
            "_view_count": null,
            "_view_module": "@jupyter-widgets/base",
            "_view_module_version": "1.2.0",
            "_view_name": "LayoutView",
            "align_content": null,
            "align_items": null,
            "align_self": null,
            "border": null,
            "bottom": null,
            "display": null,
            "flex": null,
            "flex_flow": null,
            "grid_area": null,
            "grid_auto_columns": null,
            "grid_auto_flow": null,
            "grid_auto_rows": null,
            "grid_column": null,
            "grid_gap": null,
            "grid_row": null,
            "grid_template_areas": null,
            "grid_template_columns": null,
            "grid_template_rows": null,
            "height": null,
            "justify_content": null,
            "justify_items": null,
            "left": null,
            "margin": null,
            "max_height": null,
            "max_width": null,
            "min_height": null,
            "min_width": null,
            "object_fit": null,
            "object_position": null,
            "order": null,
            "overflow": null,
            "overflow_x": null,
            "overflow_y": null,
            "padding": null,
            "right": null,
            "top": null,
            "visibility": null,
            "width": null
          }
        },
        "31cdf3b525434b36963e70efb67fc38f": {
          "model_module": "@jupyter-widgets/controls",
          "model_name": "DescriptionStyleModel",
          "model_module_version": "1.5.0",
          "state": {
            "_model_module": "@jupyter-widgets/controls",
            "_model_module_version": "1.5.0",
            "_model_name": "DescriptionStyleModel",
            "_view_count": null,
            "_view_module": "@jupyter-widgets/base",
            "_view_module_version": "1.2.0",
            "_view_name": "StyleView",
            "description_width": ""
          }
        },
        "6aab27e0855149b0a5fe0308e99e5195": {
          "model_module": "@jupyter-widgets/controls",
          "model_name": "HBoxModel",
          "model_module_version": "1.5.0",
          "state": {
            "_dom_classes": [],
            "_model_module": "@jupyter-widgets/controls",
            "_model_module_version": "1.5.0",
            "_model_name": "HBoxModel",
            "_view_count": null,
            "_view_module": "@jupyter-widgets/controls",
            "_view_module_version": "1.5.0",
            "_view_name": "HBoxView",
            "box_style": "",
            "children": [
              "IPY_MODEL_8a17b3bee7f64fe9aa3e9b3aecb8cc01",
              "IPY_MODEL_0e722266ad63443f89d32957b9a479ce",
              "IPY_MODEL_9a63ebd2c7d344ddbb0c81f60683541b"
            ],
            "layout": "IPY_MODEL_9b09617d277b4aa3864b320e0e4408cd"
          }
        },
        "8a17b3bee7f64fe9aa3e9b3aecb8cc01": {
          "model_module": "@jupyter-widgets/controls",
          "model_name": "HTMLModel",
          "model_module_version": "1.5.0",
          "state": {
            "_dom_classes": [],
            "_model_module": "@jupyter-widgets/controls",
            "_model_module_version": "1.5.0",
            "_model_name": "HTMLModel",
            "_view_count": null,
            "_view_module": "@jupyter-widgets/controls",
            "_view_module_version": "1.5.0",
            "_view_name": "HTMLView",
            "description": "",
            "description_tooltip": null,
            "layout": "IPY_MODEL_994935e6bc3f41fb9004e67fe64360b4",
            "placeholder": "​",
            "style": "IPY_MODEL_efdd9d9db3054b5080086cd290f5b5f6",
            "value": "Downloading (…)olve/main/vocab.json: 100%"
          }
        },
        "0e722266ad63443f89d32957b9a479ce": {
          "model_module": "@jupyter-widgets/controls",
          "model_name": "FloatProgressModel",
          "model_module_version": "1.5.0",
          "state": {
            "_dom_classes": [],
            "_model_module": "@jupyter-widgets/controls",
            "_model_module_version": "1.5.0",
            "_model_name": "FloatProgressModel",
            "_view_count": null,
            "_view_module": "@jupyter-widgets/controls",
            "_view_module_version": "1.5.0",
            "_view_name": "ProgressView",
            "bar_style": "success",
            "description": "",
            "description_tooltip": null,
            "layout": "IPY_MODEL_cfa9f249caa04ae38adc282f626e5ede",
            "max": 898822,
            "min": 0,
            "orientation": "horizontal",
            "style": "IPY_MODEL_4c49059299a447ad854227c6029e82ab",
            "value": 898822
          }
        },
        "9a63ebd2c7d344ddbb0c81f60683541b": {
          "model_module": "@jupyter-widgets/controls",
          "model_name": "HTMLModel",
          "model_module_version": "1.5.0",
          "state": {
            "_dom_classes": [],
            "_model_module": "@jupyter-widgets/controls",
            "_model_module_version": "1.5.0",
            "_model_name": "HTMLModel",
            "_view_count": null,
            "_view_module": "@jupyter-widgets/controls",
            "_view_module_version": "1.5.0",
            "_view_name": "HTMLView",
            "description": "",
            "description_tooltip": null,
            "layout": "IPY_MODEL_1af20e76a22943ed8f39acc4f1fa6cf2",
            "placeholder": "​",
            "style": "IPY_MODEL_ea767fe4bf914d22a705e91cc236ac76",
            "value": " 899k/899k [00:00&lt;00:00, 5.57MB/s]"
          }
        },
        "9b09617d277b4aa3864b320e0e4408cd": {
          "model_module": "@jupyter-widgets/base",
          "model_name": "LayoutModel",
          "model_module_version": "1.2.0",
          "state": {
            "_model_module": "@jupyter-widgets/base",
            "_model_module_version": "1.2.0",
            "_model_name": "LayoutModel",
            "_view_count": null,
            "_view_module": "@jupyter-widgets/base",
            "_view_module_version": "1.2.0",
            "_view_name": "LayoutView",
            "align_content": null,
            "align_items": null,
            "align_self": null,
            "border": null,
            "bottom": null,
            "display": null,
            "flex": null,
            "flex_flow": null,
            "grid_area": null,
            "grid_auto_columns": null,
            "grid_auto_flow": null,
            "grid_auto_rows": null,
            "grid_column": null,
            "grid_gap": null,
            "grid_row": null,
            "grid_template_areas": null,
            "grid_template_columns": null,
            "grid_template_rows": null,
            "height": null,
            "justify_content": null,
            "justify_items": null,
            "left": null,
            "margin": null,
            "max_height": null,
            "max_width": null,
            "min_height": null,
            "min_width": null,
            "object_fit": null,
            "object_position": null,
            "order": null,
            "overflow": null,
            "overflow_x": null,
            "overflow_y": null,
            "padding": null,
            "right": null,
            "top": null,
            "visibility": null,
            "width": null
          }
        },
        "994935e6bc3f41fb9004e67fe64360b4": {
          "model_module": "@jupyter-widgets/base",
          "model_name": "LayoutModel",
          "model_module_version": "1.2.0",
          "state": {
            "_model_module": "@jupyter-widgets/base",
            "_model_module_version": "1.2.0",
            "_model_name": "LayoutModel",
            "_view_count": null,
            "_view_module": "@jupyter-widgets/base",
            "_view_module_version": "1.2.0",
            "_view_name": "LayoutView",
            "align_content": null,
            "align_items": null,
            "align_self": null,
            "border": null,
            "bottom": null,
            "display": null,
            "flex": null,
            "flex_flow": null,
            "grid_area": null,
            "grid_auto_columns": null,
            "grid_auto_flow": null,
            "grid_auto_rows": null,
            "grid_column": null,
            "grid_gap": null,
            "grid_row": null,
            "grid_template_areas": null,
            "grid_template_columns": null,
            "grid_template_rows": null,
            "height": null,
            "justify_content": null,
            "justify_items": null,
            "left": null,
            "margin": null,
            "max_height": null,
            "max_width": null,
            "min_height": null,
            "min_width": null,
            "object_fit": null,
            "object_position": null,
            "order": null,
            "overflow": null,
            "overflow_x": null,
            "overflow_y": null,
            "padding": null,
            "right": null,
            "top": null,
            "visibility": null,
            "width": null
          }
        },
        "efdd9d9db3054b5080086cd290f5b5f6": {
          "model_module": "@jupyter-widgets/controls",
          "model_name": "DescriptionStyleModel",
          "model_module_version": "1.5.0",
          "state": {
            "_model_module": "@jupyter-widgets/controls",
            "_model_module_version": "1.5.0",
            "_model_name": "DescriptionStyleModel",
            "_view_count": null,
            "_view_module": "@jupyter-widgets/base",
            "_view_module_version": "1.2.0",
            "_view_name": "StyleView",
            "description_width": ""
          }
        },
        "cfa9f249caa04ae38adc282f626e5ede": {
          "model_module": "@jupyter-widgets/base",
          "model_name": "LayoutModel",
          "model_module_version": "1.2.0",
          "state": {
            "_model_module": "@jupyter-widgets/base",
            "_model_module_version": "1.2.0",
            "_model_name": "LayoutModel",
            "_view_count": null,
            "_view_module": "@jupyter-widgets/base",
            "_view_module_version": "1.2.0",
            "_view_name": "LayoutView",
            "align_content": null,
            "align_items": null,
            "align_self": null,
            "border": null,
            "bottom": null,
            "display": null,
            "flex": null,
            "flex_flow": null,
            "grid_area": null,
            "grid_auto_columns": null,
            "grid_auto_flow": null,
            "grid_auto_rows": null,
            "grid_column": null,
            "grid_gap": null,
            "grid_row": null,
            "grid_template_areas": null,
            "grid_template_columns": null,
            "grid_template_rows": null,
            "height": null,
            "justify_content": null,
            "justify_items": null,
            "left": null,
            "margin": null,
            "max_height": null,
            "max_width": null,
            "min_height": null,
            "min_width": null,
            "object_fit": null,
            "object_position": null,
            "order": null,
            "overflow": null,
            "overflow_x": null,
            "overflow_y": null,
            "padding": null,
            "right": null,
            "top": null,
            "visibility": null,
            "width": null
          }
        },
        "4c49059299a447ad854227c6029e82ab": {
          "model_module": "@jupyter-widgets/controls",
          "model_name": "ProgressStyleModel",
          "model_module_version": "1.5.0",
          "state": {
            "_model_module": "@jupyter-widgets/controls",
            "_model_module_version": "1.5.0",
            "_model_name": "ProgressStyleModel",
            "_view_count": null,
            "_view_module": "@jupyter-widgets/base",
            "_view_module_version": "1.2.0",
            "_view_name": "StyleView",
            "bar_color": null,
            "description_width": ""
          }
        },
        "1af20e76a22943ed8f39acc4f1fa6cf2": {
          "model_module": "@jupyter-widgets/base",
          "model_name": "LayoutModel",
          "model_module_version": "1.2.0",
          "state": {
            "_model_module": "@jupyter-widgets/base",
            "_model_module_version": "1.2.0",
            "_model_name": "LayoutModel",
            "_view_count": null,
            "_view_module": "@jupyter-widgets/base",
            "_view_module_version": "1.2.0",
            "_view_name": "LayoutView",
            "align_content": null,
            "align_items": null,
            "align_self": null,
            "border": null,
            "bottom": null,
            "display": null,
            "flex": null,
            "flex_flow": null,
            "grid_area": null,
            "grid_auto_columns": null,
            "grid_auto_flow": null,
            "grid_auto_rows": null,
            "grid_column": null,
            "grid_gap": null,
            "grid_row": null,
            "grid_template_areas": null,
            "grid_template_columns": null,
            "grid_template_rows": null,
            "height": null,
            "justify_content": null,
            "justify_items": null,
            "left": null,
            "margin": null,
            "max_height": null,
            "max_width": null,
            "min_height": null,
            "min_width": null,
            "object_fit": null,
            "object_position": null,
            "order": null,
            "overflow": null,
            "overflow_x": null,
            "overflow_y": null,
            "padding": null,
            "right": null,
            "top": null,
            "visibility": null,
            "width": null
          }
        },
        "ea767fe4bf914d22a705e91cc236ac76": {
          "model_module": "@jupyter-widgets/controls",
          "model_name": "DescriptionStyleModel",
          "model_module_version": "1.5.0",
          "state": {
            "_model_module": "@jupyter-widgets/controls",
            "_model_module_version": "1.5.0",
            "_model_name": "DescriptionStyleModel",
            "_view_count": null,
            "_view_module": "@jupyter-widgets/base",
            "_view_module_version": "1.2.0",
            "_view_name": "StyleView",
            "description_width": ""
          }
        },
        "69a9a2438f974e859010b85d28d99c3e": {
          "model_module": "@jupyter-widgets/controls",
          "model_name": "HBoxModel",
          "model_module_version": "1.5.0",
          "state": {
            "_dom_classes": [],
            "_model_module": "@jupyter-widgets/controls",
            "_model_module_version": "1.5.0",
            "_model_name": "HBoxModel",
            "_view_count": null,
            "_view_module": "@jupyter-widgets/controls",
            "_view_module_version": "1.5.0",
            "_view_name": "HBoxView",
            "box_style": "",
            "children": [
              "IPY_MODEL_337f01df13a54d98a0880475a3c5b198",
              "IPY_MODEL_142f004e0ac340b9a6dfb2672c02c3f4",
              "IPY_MODEL_3c6187a6650f4a8abc650cd5081f2be2"
            ],
            "layout": "IPY_MODEL_86cdb080abd94995bed8f47cefd8b356"
          }
        },
        "337f01df13a54d98a0880475a3c5b198": {
          "model_module": "@jupyter-widgets/controls",
          "model_name": "HTMLModel",
          "model_module_version": "1.5.0",
          "state": {
            "_dom_classes": [],
            "_model_module": "@jupyter-widgets/controls",
            "_model_module_version": "1.5.0",
            "_model_name": "HTMLModel",
            "_view_count": null,
            "_view_module": "@jupyter-widgets/controls",
            "_view_module_version": "1.5.0",
            "_view_name": "HTMLView",
            "description": "",
            "description_tooltip": null,
            "layout": "IPY_MODEL_02a28af954424c8eb98b181d28583c76",
            "placeholder": "​",
            "style": "IPY_MODEL_995c57ece63542d980eb7128c9c78e2b",
            "value": "Downloading (…)olve/main/merges.txt: 100%"
          }
        },
        "142f004e0ac340b9a6dfb2672c02c3f4": {
          "model_module": "@jupyter-widgets/controls",
          "model_name": "FloatProgressModel",
          "model_module_version": "1.5.0",
          "state": {
            "_dom_classes": [],
            "_model_module": "@jupyter-widgets/controls",
            "_model_module_version": "1.5.0",
            "_model_name": "FloatProgressModel",
            "_view_count": null,
            "_view_module": "@jupyter-widgets/controls",
            "_view_module_version": "1.5.0",
            "_view_name": "ProgressView",
            "bar_style": "success",
            "description": "",
            "description_tooltip": null,
            "layout": "IPY_MODEL_a62eaf6588324224a66f30e37ce6dc41",
            "max": 456318,
            "min": 0,
            "orientation": "horizontal",
            "style": "IPY_MODEL_dca172ef52574347a94258b377e9acfb",
            "value": 456318
          }
        },
        "3c6187a6650f4a8abc650cd5081f2be2": {
          "model_module": "@jupyter-widgets/controls",
          "model_name": "HTMLModel",
          "model_module_version": "1.5.0",
          "state": {
            "_dom_classes": [],
            "_model_module": "@jupyter-widgets/controls",
            "_model_module_version": "1.5.0",
            "_model_name": "HTMLModel",
            "_view_count": null,
            "_view_module": "@jupyter-widgets/controls",
            "_view_module_version": "1.5.0",
            "_view_name": "HTMLView",
            "description": "",
            "description_tooltip": null,
            "layout": "IPY_MODEL_3abd2c8d983f44c8896360724d998642",
            "placeholder": "​",
            "style": "IPY_MODEL_88ec9f4ccb294189a6966e855e2a1c64",
            "value": " 456k/456k [00:00&lt;00:00, 3.22MB/s]"
          }
        },
        "86cdb080abd94995bed8f47cefd8b356": {
          "model_module": "@jupyter-widgets/base",
          "model_name": "LayoutModel",
          "model_module_version": "1.2.0",
          "state": {
            "_model_module": "@jupyter-widgets/base",
            "_model_module_version": "1.2.0",
            "_model_name": "LayoutModel",
            "_view_count": null,
            "_view_module": "@jupyter-widgets/base",
            "_view_module_version": "1.2.0",
            "_view_name": "LayoutView",
            "align_content": null,
            "align_items": null,
            "align_self": null,
            "border": null,
            "bottom": null,
            "display": null,
            "flex": null,
            "flex_flow": null,
            "grid_area": null,
            "grid_auto_columns": null,
            "grid_auto_flow": null,
            "grid_auto_rows": null,
            "grid_column": null,
            "grid_gap": null,
            "grid_row": null,
            "grid_template_areas": null,
            "grid_template_columns": null,
            "grid_template_rows": null,
            "height": null,
            "justify_content": null,
            "justify_items": null,
            "left": null,
            "margin": null,
            "max_height": null,
            "max_width": null,
            "min_height": null,
            "min_width": null,
            "object_fit": null,
            "object_position": null,
            "order": null,
            "overflow": null,
            "overflow_x": null,
            "overflow_y": null,
            "padding": null,
            "right": null,
            "top": null,
            "visibility": null,
            "width": null
          }
        },
        "02a28af954424c8eb98b181d28583c76": {
          "model_module": "@jupyter-widgets/base",
          "model_name": "LayoutModel",
          "model_module_version": "1.2.0",
          "state": {
            "_model_module": "@jupyter-widgets/base",
            "_model_module_version": "1.2.0",
            "_model_name": "LayoutModel",
            "_view_count": null,
            "_view_module": "@jupyter-widgets/base",
            "_view_module_version": "1.2.0",
            "_view_name": "LayoutView",
            "align_content": null,
            "align_items": null,
            "align_self": null,
            "border": null,
            "bottom": null,
            "display": null,
            "flex": null,
            "flex_flow": null,
            "grid_area": null,
            "grid_auto_columns": null,
            "grid_auto_flow": null,
            "grid_auto_rows": null,
            "grid_column": null,
            "grid_gap": null,
            "grid_row": null,
            "grid_template_areas": null,
            "grid_template_columns": null,
            "grid_template_rows": null,
            "height": null,
            "justify_content": null,
            "justify_items": null,
            "left": null,
            "margin": null,
            "max_height": null,
            "max_width": null,
            "min_height": null,
            "min_width": null,
            "object_fit": null,
            "object_position": null,
            "order": null,
            "overflow": null,
            "overflow_x": null,
            "overflow_y": null,
            "padding": null,
            "right": null,
            "top": null,
            "visibility": null,
            "width": null
          }
        },
        "995c57ece63542d980eb7128c9c78e2b": {
          "model_module": "@jupyter-widgets/controls",
          "model_name": "DescriptionStyleModel",
          "model_module_version": "1.5.0",
          "state": {
            "_model_module": "@jupyter-widgets/controls",
            "_model_module_version": "1.5.0",
            "_model_name": "DescriptionStyleModel",
            "_view_count": null,
            "_view_module": "@jupyter-widgets/base",
            "_view_module_version": "1.2.0",
            "_view_name": "StyleView",
            "description_width": ""
          }
        },
        "a62eaf6588324224a66f30e37ce6dc41": {
          "model_module": "@jupyter-widgets/base",
          "model_name": "LayoutModel",
          "model_module_version": "1.2.0",
          "state": {
            "_model_module": "@jupyter-widgets/base",
            "_model_module_version": "1.2.0",
            "_model_name": "LayoutModel",
            "_view_count": null,
            "_view_module": "@jupyter-widgets/base",
            "_view_module_version": "1.2.0",
            "_view_name": "LayoutView",
            "align_content": null,
            "align_items": null,
            "align_self": null,
            "border": null,
            "bottom": null,
            "display": null,
            "flex": null,
            "flex_flow": null,
            "grid_area": null,
            "grid_auto_columns": null,
            "grid_auto_flow": null,
            "grid_auto_rows": null,
            "grid_column": null,
            "grid_gap": null,
            "grid_row": null,
            "grid_template_areas": null,
            "grid_template_columns": null,
            "grid_template_rows": null,
            "height": null,
            "justify_content": null,
            "justify_items": null,
            "left": null,
            "margin": null,
            "max_height": null,
            "max_width": null,
            "min_height": null,
            "min_width": null,
            "object_fit": null,
            "object_position": null,
            "order": null,
            "overflow": null,
            "overflow_x": null,
            "overflow_y": null,
            "padding": null,
            "right": null,
            "top": null,
            "visibility": null,
            "width": null
          }
        },
        "dca172ef52574347a94258b377e9acfb": {
          "model_module": "@jupyter-widgets/controls",
          "model_name": "ProgressStyleModel",
          "model_module_version": "1.5.0",
          "state": {
            "_model_module": "@jupyter-widgets/controls",
            "_model_module_version": "1.5.0",
            "_model_name": "ProgressStyleModel",
            "_view_count": null,
            "_view_module": "@jupyter-widgets/base",
            "_view_module_version": "1.2.0",
            "_view_name": "StyleView",
            "bar_color": null,
            "description_width": ""
          }
        },
        "3abd2c8d983f44c8896360724d998642": {
          "model_module": "@jupyter-widgets/base",
          "model_name": "LayoutModel",
          "model_module_version": "1.2.0",
          "state": {
            "_model_module": "@jupyter-widgets/base",
            "_model_module_version": "1.2.0",
            "_model_name": "LayoutModel",
            "_view_count": null,
            "_view_module": "@jupyter-widgets/base",
            "_view_module_version": "1.2.0",
            "_view_name": "LayoutView",
            "align_content": null,
            "align_items": null,
            "align_self": null,
            "border": null,
            "bottom": null,
            "display": null,
            "flex": null,
            "flex_flow": null,
            "grid_area": null,
            "grid_auto_columns": null,
            "grid_auto_flow": null,
            "grid_auto_rows": null,
            "grid_column": null,
            "grid_gap": null,
            "grid_row": null,
            "grid_template_areas": null,
            "grid_template_columns": null,
            "grid_template_rows": null,
            "height": null,
            "justify_content": null,
            "justify_items": null,
            "left": null,
            "margin": null,
            "max_height": null,
            "max_width": null,
            "min_height": null,
            "min_width": null,
            "object_fit": null,
            "object_position": null,
            "order": null,
            "overflow": null,
            "overflow_x": null,
            "overflow_y": null,
            "padding": null,
            "right": null,
            "top": null,
            "visibility": null,
            "width": null
          }
        },
        "88ec9f4ccb294189a6966e855e2a1c64": {
          "model_module": "@jupyter-widgets/controls",
          "model_name": "DescriptionStyleModel",
          "model_module_version": "1.5.0",
          "state": {
            "_model_module": "@jupyter-widgets/controls",
            "_model_module_version": "1.5.0",
            "_model_name": "DescriptionStyleModel",
            "_view_count": null,
            "_view_module": "@jupyter-widgets/base",
            "_view_module_version": "1.2.0",
            "_view_name": "StyleView",
            "description_width": ""
          }
        },
        "5bddef73110846de88ff7fe41b4880ea": {
          "model_module": "@jupyter-widgets/controls",
          "model_name": "HBoxModel",
          "model_module_version": "1.5.0",
          "state": {
            "_dom_classes": [],
            "_model_module": "@jupyter-widgets/controls",
            "_model_module_version": "1.5.0",
            "_model_name": "HBoxModel",
            "_view_count": null,
            "_view_module": "@jupyter-widgets/controls",
            "_view_module_version": "1.5.0",
            "_view_name": "HBoxView",
            "box_style": "",
            "children": [
              "IPY_MODEL_a5ef72e1a0014d6d888b132cd94c7d3e",
              "IPY_MODEL_c5cb0c6c67004bddb6ee82f364d8fc68",
              "IPY_MODEL_06d7d8d20997447ea9210b6ef86ccc53"
            ],
            "layout": "IPY_MODEL_36bb00cc0b9c45288fa705c765f5f8b8"
          }
        },
        "a5ef72e1a0014d6d888b132cd94c7d3e": {
          "model_module": "@jupyter-widgets/controls",
          "model_name": "HTMLModel",
          "model_module_version": "1.5.0",
          "state": {
            "_dom_classes": [],
            "_model_module": "@jupyter-widgets/controls",
            "_model_module_version": "1.5.0",
            "_model_name": "HTMLModel",
            "_view_count": null,
            "_view_module": "@jupyter-widgets/controls",
            "_view_module_version": "1.5.0",
            "_view_name": "HTMLView",
            "description": "",
            "description_tooltip": null,
            "layout": "IPY_MODEL_ec432c0ae9b546acbef822fa6f71b5f0",
            "placeholder": "​",
            "style": "IPY_MODEL_75792103364641b8812c75126dc5a208",
            "value": "Downloading (…)&quot;pytorch_model.bin&quot;;: 100%"
          }
        },
        "c5cb0c6c67004bddb6ee82f364d8fc68": {
          "model_module": "@jupyter-widgets/controls",
          "model_name": "FloatProgressModel",
          "model_module_version": "1.5.0",
          "state": {
            "_dom_classes": [],
            "_model_module": "@jupyter-widgets/controls",
            "_model_module_version": "1.5.0",
            "_model_name": "FloatProgressModel",
            "_view_count": null,
            "_view_module": "@jupyter-widgets/controls",
            "_view_module_version": "1.5.0",
            "_view_name": "ProgressView",
            "bar_style": "success",
            "description": "",
            "description_tooltip": null,
            "layout": "IPY_MODEL_b1d9f0dbf34d4e749d3503aabcbe9c36",
            "max": 1222317369,
            "min": 0,
            "orientation": "horizontal",
            "style": "IPY_MODEL_9e97c27bafb14efba43cfa6a9b87a57a",
            "value": 1222317369
          }
        },
        "06d7d8d20997447ea9210b6ef86ccc53": {
          "model_module": "@jupyter-widgets/controls",
          "model_name": "HTMLModel",
          "model_module_version": "1.5.0",
          "state": {
            "_dom_classes": [],
            "_model_module": "@jupyter-widgets/controls",
            "_model_module_version": "1.5.0",
            "_model_name": "HTMLModel",
            "_view_count": null,
            "_view_module": "@jupyter-widgets/controls",
            "_view_module_version": "1.5.0",
            "_view_name": "HTMLView",
            "description": "",
            "description_tooltip": null,
            "layout": "IPY_MODEL_3a7deab1301945b9a85387273dfbd918",
            "placeholder": "​",
            "style": "IPY_MODEL_eb4089672d054c309a07b65f759e7d6a",
            "value": " 1.22G/1.22G [00:12&lt;00:00, 86.5MB/s]"
          }
        },
        "36bb00cc0b9c45288fa705c765f5f8b8": {
          "model_module": "@jupyter-widgets/base",
          "model_name": "LayoutModel",
          "model_module_version": "1.2.0",
          "state": {
            "_model_module": "@jupyter-widgets/base",
            "_model_module_version": "1.2.0",
            "_model_name": "LayoutModel",
            "_view_count": null,
            "_view_module": "@jupyter-widgets/base",
            "_view_module_version": "1.2.0",
            "_view_name": "LayoutView",
            "align_content": null,
            "align_items": null,
            "align_self": null,
            "border": null,
            "bottom": null,
            "display": null,
            "flex": null,
            "flex_flow": null,
            "grid_area": null,
            "grid_auto_columns": null,
            "grid_auto_flow": null,
            "grid_auto_rows": null,
            "grid_column": null,
            "grid_gap": null,
            "grid_row": null,
            "grid_template_areas": null,
            "grid_template_columns": null,
            "grid_template_rows": null,
            "height": null,
            "justify_content": null,
            "justify_items": null,
            "left": null,
            "margin": null,
            "max_height": null,
            "max_width": null,
            "min_height": null,
            "min_width": null,
            "object_fit": null,
            "object_position": null,
            "order": null,
            "overflow": null,
            "overflow_x": null,
            "overflow_y": null,
            "padding": null,
            "right": null,
            "top": null,
            "visibility": null,
            "width": null
          }
        },
        "ec432c0ae9b546acbef822fa6f71b5f0": {
          "model_module": "@jupyter-widgets/base",
          "model_name": "LayoutModel",
          "model_module_version": "1.2.0",
          "state": {
            "_model_module": "@jupyter-widgets/base",
            "_model_module_version": "1.2.0",
            "_model_name": "LayoutModel",
            "_view_count": null,
            "_view_module": "@jupyter-widgets/base",
            "_view_module_version": "1.2.0",
            "_view_name": "LayoutView",
            "align_content": null,
            "align_items": null,
            "align_self": null,
            "border": null,
            "bottom": null,
            "display": null,
            "flex": null,
            "flex_flow": null,
            "grid_area": null,
            "grid_auto_columns": null,
            "grid_auto_flow": null,
            "grid_auto_rows": null,
            "grid_column": null,
            "grid_gap": null,
            "grid_row": null,
            "grid_template_areas": null,
            "grid_template_columns": null,
            "grid_template_rows": null,
            "height": null,
            "justify_content": null,
            "justify_items": null,
            "left": null,
            "margin": null,
            "max_height": null,
            "max_width": null,
            "min_height": null,
            "min_width": null,
            "object_fit": null,
            "object_position": null,
            "order": null,
            "overflow": null,
            "overflow_x": null,
            "overflow_y": null,
            "padding": null,
            "right": null,
            "top": null,
            "visibility": null,
            "width": null
          }
        },
        "75792103364641b8812c75126dc5a208": {
          "model_module": "@jupyter-widgets/controls",
          "model_name": "DescriptionStyleModel",
          "model_module_version": "1.5.0",
          "state": {
            "_model_module": "@jupyter-widgets/controls",
            "_model_module_version": "1.5.0",
            "_model_name": "DescriptionStyleModel",
            "_view_count": null,
            "_view_module": "@jupyter-widgets/base",
            "_view_module_version": "1.2.0",
            "_view_name": "StyleView",
            "description_width": ""
          }
        },
        "b1d9f0dbf34d4e749d3503aabcbe9c36": {
          "model_module": "@jupyter-widgets/base",
          "model_name": "LayoutModel",
          "model_module_version": "1.2.0",
          "state": {
            "_model_module": "@jupyter-widgets/base",
            "_model_module_version": "1.2.0",
            "_model_name": "LayoutModel",
            "_view_count": null,
            "_view_module": "@jupyter-widgets/base",
            "_view_module_version": "1.2.0",
            "_view_name": "LayoutView",
            "align_content": null,
            "align_items": null,
            "align_self": null,
            "border": null,
            "bottom": null,
            "display": null,
            "flex": null,
            "flex_flow": null,
            "grid_area": null,
            "grid_auto_columns": null,
            "grid_auto_flow": null,
            "grid_auto_rows": null,
            "grid_column": null,
            "grid_gap": null,
            "grid_row": null,
            "grid_template_areas": null,
            "grid_template_columns": null,
            "grid_template_rows": null,
            "height": null,
            "justify_content": null,
            "justify_items": null,
            "left": null,
            "margin": null,
            "max_height": null,
            "max_width": null,
            "min_height": null,
            "min_width": null,
            "object_fit": null,
            "object_position": null,
            "order": null,
            "overflow": null,
            "overflow_x": null,
            "overflow_y": null,
            "padding": null,
            "right": null,
            "top": null,
            "visibility": null,
            "width": null
          }
        },
        "9e97c27bafb14efba43cfa6a9b87a57a": {
          "model_module": "@jupyter-widgets/controls",
          "model_name": "ProgressStyleModel",
          "model_module_version": "1.5.0",
          "state": {
            "_model_module": "@jupyter-widgets/controls",
            "_model_module_version": "1.5.0",
            "_model_name": "ProgressStyleModel",
            "_view_count": null,
            "_view_module": "@jupyter-widgets/base",
            "_view_module_version": "1.2.0",
            "_view_name": "StyleView",
            "bar_color": null,
            "description_width": ""
          }
        },
        "3a7deab1301945b9a85387273dfbd918": {
          "model_module": "@jupyter-widgets/base",
          "model_name": "LayoutModel",
          "model_module_version": "1.2.0",
          "state": {
            "_model_module": "@jupyter-widgets/base",
            "_model_module_version": "1.2.0",
            "_model_name": "LayoutModel",
            "_view_count": null,
            "_view_module": "@jupyter-widgets/base",
            "_view_module_version": "1.2.0",
            "_view_name": "LayoutView",
            "align_content": null,
            "align_items": null,
            "align_self": null,
            "border": null,
            "bottom": null,
            "display": null,
            "flex": null,
            "flex_flow": null,
            "grid_area": null,
            "grid_auto_columns": null,
            "grid_auto_flow": null,
            "grid_auto_rows": null,
            "grid_column": null,
            "grid_gap": null,
            "grid_row": null,
            "grid_template_areas": null,
            "grid_template_columns": null,
            "grid_template_rows": null,
            "height": null,
            "justify_content": null,
            "justify_items": null,
            "left": null,
            "margin": null,
            "max_height": null,
            "max_width": null,
            "min_height": null,
            "min_width": null,
            "object_fit": null,
            "object_position": null,
            "order": null,
            "overflow": null,
            "overflow_x": null,
            "overflow_y": null,
            "padding": null,
            "right": null,
            "top": null,
            "visibility": null,
            "width": null
          }
        },
        "eb4089672d054c309a07b65f759e7d6a": {
          "model_module": "@jupyter-widgets/controls",
          "model_name": "DescriptionStyleModel",
          "model_module_version": "1.5.0",
          "state": {
            "_model_module": "@jupyter-widgets/controls",
            "_model_module_version": "1.5.0",
            "_model_name": "DescriptionStyleModel",
            "_view_count": null,
            "_view_module": "@jupyter-widgets/base",
            "_view_module_version": "1.2.0",
            "_view_name": "StyleView",
            "description_width": ""
          }
        }
      }
    }
  },
  "cells": [
    {
      "cell_type": "markdown",
      "metadata": {
        "id": "view-in-github",
        "colab_type": "text"
      },
      "source": [
        "<a href=\"https://colab.research.google.com/github/mariya-goltsova/transformers/blob/main/summarization1.ipynb\" target=\"_parent\"><img src=\"https://colab.research.google.com/assets/colab-badge.svg\" alt=\"Open In Colab\"/></a>"
      ]
    },
    {
      "cell_type": "code",
      "execution_count": null,
      "metadata": {
        "id": "tEMZ9WQrxnd2"
      },
      "outputs": [],
      "source": [
        "# wrap the output in colab cells\n",
        "from IPython.display import HTML, display\n",
        "\n",
        "def set_css():\n",
        "  display(HTML('''\n",
        "  \n",
        "  '''))\n",
        "get_ipython().events.register('pre_run_cell', set_css)"
      ]
    },
    {
      "cell_type": "code",
      "source": [
        "# install transformers with sentencepiece\n",
        "!pip install transformers[sentencepiece]"
      ],
      "metadata": {
        "colab": {
          "base_uri": "https://localhost:8080/",
          "height": 544
        },
        "id": "0omyZwhH0O6b",
        "outputId": "19098906-5e32-48b1-c447-8600bd06ec91"
      },
      "execution_count": null,
      "outputs": [
        {
          "output_type": "display_data",
          "data": {
            "text/plain": [
              "<IPython.core.display.HTML object>"
            ],
            "text/html": [
              "\n",
              "  \n",
              "  "
            ]
          },
          "metadata": {}
        },
        {
          "output_type": "stream",
          "name": "stdout",
          "text": [
            "Looking in indexes: https://pypi.org/simple, https://us-python.pkg.dev/colab-wheels/public/simple/\n",
            "Collecting transformers[sentencepiece]\n",
            "  Downloading transformers-4.26.1-py3-none-any.whl (6.3 MB)\n",
            "\u001b[2K     \u001b[90m━━━━━━━━━━━━━━━━━━━━━━━━━━━━━━━━━━━━━━━━\u001b[0m \u001b[32m6.3/6.3 MB\u001b[0m \u001b[31m47.5 MB/s\u001b[0m eta \u001b[36m0:00:00\u001b[0m\n",
            "\u001b[?25hRequirement already satisfied: numpy>=1.17 in /usr/local/lib/python3.8/dist-packages (from transformers[sentencepiece]) (1.21.6)\n",
            "Requirement already satisfied: packaging>=20.0 in /usr/local/lib/python3.8/dist-packages (from transformers[sentencepiece]) (23.0)\n",
            "Requirement already satisfied: pyyaml>=5.1 in /usr/local/lib/python3.8/dist-packages (from transformers[sentencepiece]) (6.0)\n",
            "Requirement already satisfied: tqdm>=4.27 in /usr/local/lib/python3.8/dist-packages (from transformers[sentencepiece]) (4.64.1)\n",
            "Requirement already satisfied: requests in /usr/local/lib/python3.8/dist-packages (from transformers[sentencepiece]) (2.25.1)\n",
            "Requirement already satisfied: filelock in /usr/local/lib/python3.8/dist-packages (from transformers[sentencepiece]) (3.9.0)\n",
            "Requirement already satisfied: regex!=2019.12.17 in /usr/local/lib/python3.8/dist-packages (from transformers[sentencepiece]) (2022.6.2)\n",
            "Collecting huggingface-hub<1.0,>=0.11.0\n",
            "  Downloading huggingface_hub-0.12.1-py3-none-any.whl (190 kB)\n",
            "\u001b[2K     \u001b[90m━━━━━━━━━━━━━━━━━━━━━━━━━━━━━━━━━━━━━━\u001b[0m \u001b[32m190.3/190.3 KB\u001b[0m \u001b[31m19.8 MB/s\u001b[0m eta \u001b[36m0:00:00\u001b[0m\n",
            "\u001b[?25hCollecting tokenizers!=0.11.3,<0.14,>=0.11.1\n",
            "  Downloading tokenizers-0.13.2-cp38-cp38-manylinux_2_17_x86_64.manylinux2014_x86_64.whl (7.6 MB)\n",
            "\u001b[2K     \u001b[90m━━━━━━━━━━━━━━━━━━━━━━━━━━━━━━━━━━━━━━━━\u001b[0m \u001b[32m7.6/7.6 MB\u001b[0m \u001b[31m93.4 MB/s\u001b[0m eta \u001b[36m0:00:00\u001b[0m\n",
            "\u001b[?25hRequirement already satisfied: protobuf<=3.20.2 in /usr/local/lib/python3.8/dist-packages (from transformers[sentencepiece]) (3.19.6)\n",
            "Collecting sentencepiece!=0.1.92,>=0.1.91\n",
            "  Downloading sentencepiece-0.1.97-cp38-cp38-manylinux_2_17_x86_64.manylinux2014_x86_64.whl (1.3 MB)\n",
            "\u001b[2K     \u001b[90m━━━━━━━━━━━━━━━━━━━━━━━━━━━━━━━━━━━━━━━━\u001b[0m \u001b[32m1.3/1.3 MB\u001b[0m \u001b[31m67.5 MB/s\u001b[0m eta \u001b[36m0:00:00\u001b[0m\n",
            "\u001b[?25hRequirement already satisfied: typing-extensions>=3.7.4.3 in /usr/local/lib/python3.8/dist-packages (from huggingface-hub<1.0,>=0.11.0->transformers[sentencepiece]) (4.5.0)\n",
            "Requirement already satisfied: chardet<5,>=3.0.2 in /usr/local/lib/python3.8/dist-packages (from requests->transformers[sentencepiece]) (4.0.0)\n",
            "Requirement already satisfied: idna<3,>=2.5 in /usr/local/lib/python3.8/dist-packages (from requests->transformers[sentencepiece]) (2.10)\n",
            "Requirement already satisfied: certifi>=2017.4.17 in /usr/local/lib/python3.8/dist-packages (from requests->transformers[sentencepiece]) (2022.12.7)\n",
            "Requirement already satisfied: urllib3<1.27,>=1.21.1 in /usr/local/lib/python3.8/dist-packages (from requests->transformers[sentencepiece]) (1.24.3)\n",
            "Installing collected packages: tokenizers, sentencepiece, huggingface-hub, transformers\n",
            "Successfully installed huggingface-hub-0.12.1 sentencepiece-0.1.97 tokenizers-0.13.2 transformers-4.26.1\n"
          ]
        }
      ]
    },
    {
      "cell_type": "code",
      "source": [
        "\n",
        "# import and initialize the tokenizer and model from the checkpoint\n",
        "from transformers import AutoTokenizer, AutoModelForSeq2SeqLM\n",
        "\n",
        "checkpoint = \"sshleifer/distilbart-cnn-12-6\"\n",
        "\n",
        "tokenizer = AutoTokenizer.from_pretrained(checkpoint)\n",
        "model = AutoModelForSeq2SeqLM.from_pretrained(checkpoint)"
      ],
      "metadata": {
        "colab": {
          "base_uri": "https://localhost:8080/",
          "height": 177,
          "referenced_widgets": [
            "3ac4a7189a8645578505f02d9612454a",
            "f39a6ccb78ff4c348bfa7ccb9ccbcf85",
            "f187fcb1943743dd90fa45faf73c586d",
            "d16828d3584f477cb91b4b3d6677e860",
            "ae0f1abbdbc743f19a255e1b832b373e",
            "78db558a1dfa4f20bfc8849685fec283",
            "e0855494c61c4f33884ff4d7cf63330c",
            "1f98754014804d7f97fd334e7bd2a9ee",
            "9b1180d9de554a0b9e4da8adbebed772",
            "07a5f30bad8c4fb89e0a19631f95e8b2",
            "57ce5f9f77dc466a897e409ecf00f21e",
            "e18a31105653450990dc26ce0ebb1aaf",
            "85ed25d420df40228ae8772bea438805",
            "b2656a86139447f88cb2c175b970b4f0",
            "828ed1251f064e7b8d5a8882975990d1",
            "aa165fbb3a4346b99ade90a114689fbf",
            "3dabd93a43a94251bea572af0dff670b",
            "7bccdf8015ab47afaa786409b0f523d3",
            "579bfef232c84f25816ce23025d291c6",
            "1ec139cc5de84266987046c07d06cf7c",
            "42f23cc3ef50401d87c0cb097995a2e0",
            "31cdf3b525434b36963e70efb67fc38f",
            "6aab27e0855149b0a5fe0308e99e5195",
            "8a17b3bee7f64fe9aa3e9b3aecb8cc01",
            "0e722266ad63443f89d32957b9a479ce",
            "9a63ebd2c7d344ddbb0c81f60683541b",
            "9b09617d277b4aa3864b320e0e4408cd",
            "994935e6bc3f41fb9004e67fe64360b4",
            "efdd9d9db3054b5080086cd290f5b5f6",
            "cfa9f249caa04ae38adc282f626e5ede",
            "4c49059299a447ad854227c6029e82ab",
            "1af20e76a22943ed8f39acc4f1fa6cf2",
            "ea767fe4bf914d22a705e91cc236ac76",
            "69a9a2438f974e859010b85d28d99c3e",
            "337f01df13a54d98a0880475a3c5b198",
            "142f004e0ac340b9a6dfb2672c02c3f4",
            "3c6187a6650f4a8abc650cd5081f2be2",
            "86cdb080abd94995bed8f47cefd8b356",
            "02a28af954424c8eb98b181d28583c76",
            "995c57ece63542d980eb7128c9c78e2b",
            "a62eaf6588324224a66f30e37ce6dc41",
            "dca172ef52574347a94258b377e9acfb",
            "3abd2c8d983f44c8896360724d998642",
            "88ec9f4ccb294189a6966e855e2a1c64",
            "5bddef73110846de88ff7fe41b4880ea",
            "a5ef72e1a0014d6d888b132cd94c7d3e",
            "c5cb0c6c67004bddb6ee82f364d8fc68",
            "06d7d8d20997447ea9210b6ef86ccc53",
            "36bb00cc0b9c45288fa705c765f5f8b8",
            "ec432c0ae9b546acbef822fa6f71b5f0",
            "75792103364641b8812c75126dc5a208",
            "b1d9f0dbf34d4e749d3503aabcbe9c36",
            "9e97c27bafb14efba43cfa6a9b87a57a",
            "3a7deab1301945b9a85387273dfbd918",
            "eb4089672d054c309a07b65f759e7d6a"
          ]
        },
        "id": "G8j6J5OL0Sb8",
        "outputId": "7a1c1fa0-2970-4169-f01e-8ee2804e7143"
      },
      "execution_count": null,
      "outputs": [
        {
          "output_type": "display_data",
          "data": {
            "text/plain": [
              "<IPython.core.display.HTML object>"
            ],
            "text/html": [
              "\n",
              "  \n",
              "  "
            ]
          },
          "metadata": {}
        },
        {
          "output_type": "display_data",
          "data": {
            "text/plain": [
              "Downloading (…)okenizer_config.json:   0%|          | 0.00/26.0 [00:00<?, ?B/s]"
            ],
            "application/vnd.jupyter.widget-view+json": {
              "version_major": 2,
              "version_minor": 0,
              "model_id": "3ac4a7189a8645578505f02d9612454a"
            }
          },
          "metadata": {}
        },
        {
          "output_type": "display_data",
          "data": {
            "text/plain": [
              "Downloading (…)lve/main/config.json:   0%|          | 0.00/1.80k [00:00<?, ?B/s]"
            ],
            "application/vnd.jupyter.widget-view+json": {
              "version_major": 2,
              "version_minor": 0,
              "model_id": "e18a31105653450990dc26ce0ebb1aaf"
            }
          },
          "metadata": {}
        },
        {
          "output_type": "display_data",
          "data": {
            "text/plain": [
              "Downloading (…)olve/main/vocab.json:   0%|          | 0.00/899k [00:00<?, ?B/s]"
            ],
            "application/vnd.jupyter.widget-view+json": {
              "version_major": 2,
              "version_minor": 0,
              "model_id": "6aab27e0855149b0a5fe0308e99e5195"
            }
          },
          "metadata": {}
        },
        {
          "output_type": "display_data",
          "data": {
            "text/plain": [
              "Downloading (…)olve/main/merges.txt:   0%|          | 0.00/456k [00:00<?, ?B/s]"
            ],
            "application/vnd.jupyter.widget-view+json": {
              "version_major": 2,
              "version_minor": 0,
              "model_id": "69a9a2438f974e859010b85d28d99c3e"
            }
          },
          "metadata": {}
        },
        {
          "output_type": "display_data",
          "data": {
            "text/plain": [
              "Downloading (…)\"pytorch_model.bin\";:   0%|          | 0.00/1.22G [00:00<?, ?B/s]"
            ],
            "application/vnd.jupyter.widget-view+json": {
              "version_major": 2,
              "version_minor": 0,
              "model_id": "5bddef73110846de88ff7fe41b4880ea"
            }
          },
          "metadata": {}
        }
      ]
    },
    {
      "cell_type": "markdown",
      "source": [
        "Some model statistics"
      ],
      "metadata": {
        "id": "yr7nMCp_0n0j"
      }
    },
    {
      "cell_type": "code",
      "source": [
        "# max tokens including the special tokens\n",
        "tokenizer.model_max_length "
      ],
      "metadata": {
        "colab": {
          "base_uri": "https://localhost:8080/",
          "height": 35
        },
        "id": "JFFRwiuD0r6a",
        "outputId": "6d0b6549-c52f-43af-b290-23554c1a79bf"
      },
      "execution_count": null,
      "outputs": [
        {
          "output_type": "display_data",
          "data": {
            "text/plain": [
              "<IPython.core.display.HTML object>"
            ],
            "text/html": [
              "\n",
              "  \n",
              "  "
            ]
          },
          "metadata": {}
        },
        {
          "output_type": "execute_result",
          "data": {
            "text/plain": [
              "1024"
            ]
          },
          "metadata": {},
          "execution_count": 4
        }
      ]
    },
    {
      "cell_type": "code",
      "source": [
        "FileContent = open('text.txt').read().strip()\n",
        "print(FileContent)"
      ],
      "metadata": {
        "colab": {
          "base_uri": "https://localhost:8080/",
          "height": 1000
        },
        "id": "9NJ1jyk31Kuy",
        "outputId": "2d24fd2d-bcc7-4e9d-d9e1-6713f0a227c5"
      },
      "execution_count": null,
      "outputs": [
        {
          "output_type": "display_data",
          "data": {
            "text/plain": [
              "<IPython.core.display.HTML object>"
            ],
            "text/html": [
              "\n",
              "  \n",
              "  "
            ]
          },
          "metadata": {}
        },
        {
          "output_type": "stream",
          "name": "stdout",
          "text": [
            "In 1948 there were seven thousand people in Grinnell, Iowa, including more than one who didn't dare take a drink in his own house without pulling the shades down first. It was against the law to sell liquor in Grinnell, but it was perfectly legal to drink it at home. So it wasn't that. It wasn't even that someone might look in through the window and disapprove. God knew Grinnell had more than its share of White Ribbon teetotalers, but by 1948 alcohol was hardly the mark of Cain it had once been. No, those timid souls with their fingers through the shade loops inside the white frame houses on Main Street and Park Street were thinking of something else altogether.\n",
            "\n",
            "They happened to live on land originally owned by the Congregational minister who had founded the town in 1854, Josiah Grinnell. Josiah Grinnell had sold off lots with covenants, in perpetuity, stating that anyone who allowed alcohol to be drunk on his property forfeited ownership. In perpetuity! In perpetuity was forever, and 1948 was not even a hundred years later. In 1948 there were people walking around Grinnell who had known Josiah Grinnell personally. They were getting old; Grinnell had died in 1891; but they were still walking around. So... why take a chance!\n",
            "\n",
            "The plain truth was, Grinnell had Middle West written all over it. It was squarely in the middle of Iowa's Midland corn belt, where people on the farms said \"crawdad\" instead of crayfish and \"barn lot\" instead of barnyard. Grinnell had been one of many Protestant religious communities established in the mid-nineteenth century after Iowa became a state and settlers from the East headed for the farmlands. The streets were lined with white clapboard houses and elm trees, like a New England village. And today, in 1948, the hard-scrubbed Octagon Soap smell of nineteenth century Protestantism still permeated the houses and Main Street as well. That was no small part of what people in the East thought of when they heard the term \"Middle West. \" For thirty years writers such as Sherwood Anderson, Sinclair Lewis, and Carl Van Vechten had been prompting the most delicious sniggers with their portraits of the churchy, narrow minded Middle West. The Iowa painter Grant Wood was thinking of farms like the ones around Grinnell when he did his famous painting American Gothic. Easterners recognized the grim, juiceless couple in Wood's picture right away. There were John Calvin's and John Knox's rectitude reigning in the sticks.\n",
            "\n",
            "In the fall of 1948 Harry Truman picked out Grinnell as one of the stops on his whistle-stop campaign tour, one of the hamlets where he could reach out to the little people, the average Americans of the heartland, the people untouched by the sophisticated opinion-makers of New York and Washington. Speaking from the rear platform of his railroad car, Truman said he would never forget Grinnell, because it was Grinnell College, the little Congregational academy over on Park Street, that had given him his first honorary degree. The President's fond recollection didn't cut much ice, as it turned out. The town had voted Republican in every presidential election since the first time Abraham Lincoln ran, in 1860, and wasn't about to change for Harry Truman.\n",
            "\n",
            "On the face of it, there you had Grinnell Iowa, in 1948: a piece of mid-nineteenth century American history frozen solid in the middle of the twentieth. It was one of the last towns in America that people back east would have figured to become the starting point of a bolt into the future that would create the very substructure, the electronic grid, of life in the year 2000 and beyond.\n",
            "\n",
            "On the other hand, it wouldn't have surprised Josiah Grinnell in the slightest.\n",
            "\n",
            "It was in the summer of 1948 that Grant Gale, a forty-five-year-old physics professor at Grinnell College, ran across an item in the newspaper concerning a former classmate of his at the University of Wisconsin named John Bardeen. Bardeen's father had been dean of medicine at Wisconsin, and Gale's wife Harriet's father had been dean of the engineering school, and so Bardeen and Harriet had grown up as fellow faculty brats, as the phrase went. Both Gale and Bardeen had majored in electrical engineering. Eventually Bardeen had taught physics at the University of Minnesota and had then left the academic world to work for Bell Laboratories, the telephone company's main research center, in Murray Hill, New Jersey. And now, according to the item, Bardeen and another engineer at Bell, Walter Brattain, had invented a novel little device they called a transistor.\n",
            "\n",
            "It was only an item, however: the invention of the transistor in 1948 did not create headlines. The transistor apparently performed the same function as the vacuum tube, which was an essential component of telephone relay systems and radios. Like the vacuum tube, the transistor could isolate a specific electrical signal, such as a radio wave, and amplify it. But the transistor did not require glass tubing, a vacuum, a plate, or a cathode. It was nothing more than two minute gold wires leading to a piece of processed germanium less than a sixteenth of an inch long. Germanium, an element found in coal, was an insulator, not a conductor. But if the germanium was contaminated with impurities, it became a \"semiconductor.\" A vacuum tube was also a semiconductor; the vacuum itself, like the germanium, was an insulator. But as every owner of a portable radio knew, vacuum tubes drew a lot of current, required a warm-up interval before they would work, and then got very hot. A transistor eliminated all these problems and, on top of that, was about fifty times smaller than a vacuum tube.\n",
            " \n",
            " \n",
            "\n",
            "So far, however, it was impossible to mass-produce transistors, partly because the gold wires had to be made by hand and attached by hand two thousandths of an inch apart. But that was the telephone company's problem. Grant Gale wasn't interested in any present or future applications of the transistor in terms of products. He hoped the transistor might offer a way to study the flow of electrons through a solid (the germanium), a subject physicists had speculated about for decades. He thought it would be terrific to get some transistors for his physics department at Grinnell. So he wrote to Bardeen at Bell Laboratories. Just to make sure his request didn't get lost in the shuffle, he also wrote to the president of Bell Laboratories, Oliver Buckley. Buckley was from Sloane, Iowa, and happened to be a Grinnell graduate. So by the fall of 1948 Gale had obtained two of the first transistors ever made, and he presented the first academic instruction in solid-state electronics available anywhere in the world, for the benefit of the eighteen students majoring in physics at Grinnell College.\n",
            "\n",
            "One of Grant Gale's senior physics majors was a local boy named Robert Noyce, whom Gale had known for years. Bob and his brothers, Donald, Gaylord, and Ralph, lived just down Park Street and used to rake leaves, mow the lawn, baby-sit, and do other chores for the Gales. Lately Grant Gale had done more than his share of agonizing over Bob Noyce. Like his brothers, Bob was a bright student, but he had just been thrown out of school for a semester, and it had taken every bit of credit Gale had in the local favor bank, not only with other faculty members but also with the sheriff, to keep the boy from being expelled for good and stigmatized with a felony conviction.\n",
            "\n",
            "Bob Noyce's father, Ralph Sr. was a Congregational minister. Not only that, both of his grandfathers were Congregational ministers. But that hadn't helped at all. In an odd way, after the thing happened, the boy's clerical lineage had boomeranged on him. People were going around saying, \"Well, what do you expect from a preacher's son?\" It was as if people in Grinnell unconsciously agreed with Sherwood Anderson that underneath the righteousness the midwestern Protestant preachers urged upon them, and which they themselves professed to uphold, lived demons of weakness, perversion, and hypocrisy that would break loose sooner or later.\n",
            "\n",
            "No one denied that the Noyce boys were polite and proper in all outward appearances. They were all members of the Boy Scouts. They went to Sunday School and the main Sunday service at the First Congregational Church and were active in the church youth groups. They were pumped full of Congregationalism until it was spilling over. Their father, although a minister, was not the minister of the First Congregational Church. He was the associate superintendent of the Iowa Conference of Congregational Churches, whose headquarters were at the college. The original purpose of the college had been to provide a good academic Congregational education, and many of the graduates became teachers. The Conference was a coordinating council rather than a governing body, since a prime tenet of the Congregational Church embedded in its name, was that each congregation was autonomous. Congregationalists rejected the very idea of a church hierarchy. A Congregational minister was not supposed to be a father or even a shepherd, but, rather, a teacher. Each member of the congregation was supposed to internalize the moral precepts of the church and be his own priest dealing directly with God. So the job of secretary of the Iowa Conference of Congregational Churches was anything but a position of power. It didn't pay much, either.\n",
            "\n",
            "The Noyces didn't own their own house. They lived in a two-story white clapboard house that was owned by the church at Park Street and Tenth Avenue, at the college.\n",
            "\n",
            "Not having your own house didn't carry the social onus in Grinnell that it did in the East. There was no upper crust in Grinnell. There were no top people who kept the social score in such matters. Congregationalists rejected the idea of a social hierarchy as fiercely as they did the idea of a religious hierarchy. The Congregationalists, like the Presbyterians, Methodists, Baptists, and United Brethren, were Dissenting Protestants. They were direct offshoots of the Separatists, who had split off from the Church of England in the sixteenth and seventeenth centuries and settled New England. At bottom, their doctrine of the autonomous congregation was derived from their hatred of the British system of class and status, with its endless gradations, topped off by the Court and the aristocracy. Even as late as 1948 the typical small town of the Middle West, like Grinnell, had nothing approaching a country club set. There were subtle differences in status in Grinnell, as in any other place, and it was better to be rich than poor, but there were only two obvious social ranks: those who were devout, educated, and hardworking, and those who weren't. Genteel poverty did not doom one socially in Grinnell. Ostentation did. The Noyce boys worked at odd jobs to earn their pocket money. That was socially correct as well as useful. To have devoted the same time to taking tennis lessons or riding lessons would have been a gaffe in Grinnell.\n",
            "\n",
            "Donald, the oldest of the four boys, had done brilliantly at the college and had just received his Ph.D. in chemistry at Columbia University and was about to join the faculty of the University of California at Berkeley. Gaylord, the second oldest, was teaching school in Turkey. Bob, who was a year younger than Gaylord, had done so well in science at Grinnell High School that Grant Gale had invited him to take the freshman physics course at the college during his high school senior year. He became one of Gale's star students and most tireless laboratory workers from that time on. Despite his apparent passion for the scientific grind, Bob Noyce turned out to be that much-vaunted creature, the well-rounded student. He was a trim, muscular boy, five feet eight, with thick dark brown hair, a strong jawline, and a long, broad nose that gave him a rugged appearance. He was the star diver on the college swimming team and won the Midwest Conference championship in 1947. He sang in choral groups, played the oboe, and was an actor with the college dramatic society. He also acted in a radio drama workshop at the college, along with his friend Peter Hackes and some others who were interested in broadcasting, and was the leading man in a soap opera that was broadcast over station WOI in Ames, Iowa.\n",
            "\n",
            "Perhaps Bob Noyce was a bit too well rounded for local tastes. There were people who still remembered the business with the box kite back in 1941, when he was thirteen. It had been harmless, but it could have been a disaster. Bob had come across some plans for the building of a box kite, a kite that could carry a person aloft, in the magazine Popular Science. So he and Gaylord made a frame of cross-braced pine and covered it with a bolt of muslin. They tried to get the thing up by running across a field and towing it with a rope, but that didn't work terribly well. Then they hauled it up on the roof of a barn, and Bob sat in the seat and Gaylord ran across the roof, pulling the kite. and Bob was lucky he didn't break his neck when he and the thing hit the ground. So then they tied it to the rear bumper of a neighbor's car. With the neighbor at the wheel, Bob rode the kite and managed to get about twelve feet off the ground and glide for thirty seconds or so and come down without wrecking himself or any citizen's house or livestock.\n",
            "\n",
            "Livestock. . . yes. Livestock was a major capital asset in Grinnell, and livestock was at the heart of what happened in 1948. In May a group of Bob Noyce's friends in one of the dormitory houses at Grinnell decided to have a luau, and he was in on the planning. The Second World War had popularized the exotic ways of the South Pacific, so that in 1948 the luau was an up-to-the-minute social innovation. The centerpiece of a luau was a whole roasted suckling pig with an apple or a pineapple in its mouth. Bob Noyce, being strong and quick, was one of the two boys assigned to procure the pig. That night they sneaked onto a farm just outside of Grinnell and wrestled a twenty-five-pound suckling out of the pigpen and arrived back at the luau to great applause. Within a few hours the pig was crackling hot and had an apple in its mouth and looked good enough for seconds and thirds, which everybody helped himself to, and there was more applause. The next morning came the moral hangover. The two boys decided to go see the farmer, confess, and pay for the pig. They didn't quite understand how a college luau, starring his pig, would score on the laugh meter with a farmer in midland Iowa. In the state of Iowa, where the vast majority of people depended upon agriculture for a livelihood and upon Protestant morality for their standards, not even stealing a watermelon worth thirty-five cents was likely to be written off as a boyish prank. Stealing a pig was larceny. The farmer got the sheriff and insisted on bringing criminal charges. There was only so much that Ralph Noyce, the preacher with the preacher's son, could do. Grant Gale, on the other hand, was the calm, well-respected third party. He had two difficult tasks: to keep Bob out of jail and out of court and to keep the college administration from expelling him. There was never any hope at all of a mere slap on the wrist. The compromise Grant Gale helped work out? a one-semester suspension? was the best deal Bob could have hoped for realistically.\n",
            "\n",
            "The Night of the Luau Pig was quite a little scandal on the Grinnell Richter scale. So Gale was all the more impressed by the way Bob Noyce took it. The local death-ray glowers never broke his confidence. All the Noyce boys had a profound and, to tell the truth, baffling confidence. Bob had a certain way of listening and staring. He would lower his head slightly and look up with a gaze that seemed to be about one hundred amperes. While he looked at you he never blinked and never swallowed. He absorbed everything you said and then answered very levelly in a soft baritone voice and often with a smile that showed off his terrific set of teeth. The stare, the voice, the smile; it was all a bit like the movie persona of the most famous of all Grinnell College's alumni, Gary Cooper. With his strong face, his athlete's build, and the Gary Cooper manner, Bob Noyce projected what psychologists call the halo effect. People with the halo effect seem to know exactly what they're doing and, moreover, make you want to admire them for it. They make you see the halos over their heads.\n",
            "\n",
            "Years later people would naturally wonder where Bob Noyce got his confidence. Many came to the conclusion it was as, much from his mother, Harriett Norton Noyce, as from his father. She was a latter-day version of the sort of strong-willed, intelligent, New England-style woman who had made such a difference during Iowa's pioneer days a hundred years before. His mother and father, with the help of Rowland Cross, who taught mathematics at Grinnell, arranged for Bob to take a job in the actuarial department of Equitable Life in New York City for the summer. He stayed on at the job during the fall semester, then came back to Grinnell at Christmas and rejoined the senior class in January as the second semester began. Gale was impressed by the aplomb with which the prodigal returned. In his first three years Bob had accumulated so many extra credits, it would take him only this final semester to graduate. He resumed college life, including the extracurricular activities, without skipping a beat. But more than that, Gale was gratified by the way Bob became involved with the new experimental device that was absorbing so much of Gale's own time: the transistor.\n",
            "\n",
            "Bob was not the only physics major interested in the transistor, but he was the one who seemed most curious about where this novel mechanism might lead. He went off to the Massachusetts Institute of Technology, in Cambridge, in the fall to begin his graduate work. When he brought up the subject of the transistor at MIT, even to faculty members, people just looked at him. Even those who had heard of it regarded it merely as a novelty fabricated by the telephone company. There was no course work involving transistors or the theory of solid-state electronics. His dissertation was a \"Photoelectric Study of Surface States on Insulators,\" which was at best merely background for solid-state electronics. In this area MIT was far behind Grinnell College. For a good four years Grant Gale remained one of the few people Bob Noyce could compare notes with in this new field.\n",
            "\n",
            "Well, it had been a close one! What if Grant Gale hadn't gone to school with John Bardeen, and what if Oliver Buckley hadn't been a Grinnell alumnus? And what if Gale hadn't bothered to get in touch with the two of them after he read the little squib about the transistor in the newspaper? What if he hadn't gone to bat for Bob Noyce after the Night of the Luau Pig and the boy had been thrown out of college and that had been that? After all, if Bob hadn't been able to finish at Grinnell, he probably never would have been introduced to the transistor. He certainly wouldn't have come across it at MIT in 1948. Given what Bob Noyce did over the next twenty years, one couldn't help but wonder about the fortuitous chain of events.\n",
            "\n",
            "Fortuitous. . . well! How Josiah Grinnell, up on the plains of Heaven, must have laughed over that!\n",
            " \n",
            " \n",
            "\n",
            "GRANT GALE WAS the first important physicist in Bob Noyce's career. The second was William Shockley. After their ambitions had collided one last time, and they had parted company, Noyce had concluded that he and Shockley were two very different people. But in many ways they were alike\n",
            "\n",
            "For a start, they both had an amateur's hambone love of being on-stage. At MIT Noyce had sung in choral groups. Early in the summer of 1953, after he had received his Ph.D., he went over to Tufts College to sing and act in a program of musicals presented by the college. The costume director was a girl named Elizabeth Bottomley, from Barrington, Rhode Island, who had just graduated from Tufts, majoring in English. They both enjoyed dramatics. Singing, acting, and skiing had become the pastimes Noyce enjoyed most. He had become almost as expert at skiing as he had been at diving. Noyce and Betty, as he called her, were married that fall.\n",
            "\n",
            "In 1953 the MIT faculty was just beginning to understand the implications of the transistor. But electronics firms were already eager to have graduate electrical engineers who could do research and development in the new field. Noyce was offered jobs by Bell Laboratories, IBM, by RCA, and Philco. He went to work for Philco, in Philadelphia, because Philco was starting from near zero in semiconductor research and chances for rapid advancement seemed good. But Noyce was well aware that the most important work was still being done at Bell Laboratories, thanks in no small part to William Shockley.\n",
            " \n",
            "\n",
            "Shockley had devised the first theoretical framework for research into solid-state semiconductors as far back as 1939 and was in charge of the Bell Labs team that included John Bardeen and Walter Brattain. Shockley had also originated the \"junction transistor,\" which turned the transistor from an exotic laboratory instrument into a workable item. By 1955 Shockley had left Bell and returned to Palo Alto, California, where he had grown up near Stanford University, to form his own company, Shockley Semiconductor Laboratory, with start up money provided by Arnold Beckman of Beckman Instruments. Shockley opened up shop in a glorified shed on South San Antonio Road in Mountain View, which was just south of Palo Alto. The building was made of concrete blocks with the rafters showing. Aside from clerical and maintenance personnel, practically all the employees were electrical engineers with doctorates. In a field this experimental there was nobody else worth hiring. Shockley began talking about \"my Ph.D. production line. \"\n",
            "\n",
            "Meanwhile, Noyce was not finding Philco the golden opportunity he thought it would be. Philco wanted good enough transistors to stay in the game with GE and RCA, but it was not interested in putting money into the sort of avant-garde research Noyce had in mind. In 1956 he resigned from Philco and moved from Pennsylvania to California to join Shockley. The way he went about it was a classic example of the Noyce brand of confidence. By now he and his wife, Betty, had two children: Bill, who was two, and Penny, who was six months old. After a couple of telephone conversations with Shockley, Noyce put himself and Betty on a night flight from Philadelphia to San Francisco. They arrived in Palo Alto at six A.M. By noon Noyce had signed a contract to buy a house. That afternoon he went to Mountain View to see Shockley and ask for a job, projected the halo, and got it.\n",
            " \n",
            "\n",
            "The first months on Shockley's Ph.D. production line were exhilarating. It wasn't really a production line at all. Everything at this stage was research. Every day a dozen young Ph.D.'s came to the shed at eight in the morning and began heating germanium and silicon, another common element, in kilns to temperatures ranging from 1,472 to 2,552 degrees Fahrenheit. They wore white lab coats, goggles, and work gloves. When they opened the kiln doors weird streaks of orange and white light went across their faces, and they put in the germanium or the silicon, along with specks of aluminum, phosphorus, boron. and arsenic. Contaminating the germanium or silicon with the aluminum, phosphorus, boron, and arsenic was called doping. Then they lowered a small mechanical column into the goo so that crystals formed on the bottom of the column, and they pulled the crystal out and tried to get a grip on it with tweezers, and put it under microscopes and cut it with diamond cutters, among other things, into minute slices, wafers, chips; there were no names in electronics for these tiny forms. The kilns cooked and bubbled away, the doors opened, the pale apricot light streaked over the goggles, the tweezers and diamond cutters flashed, the white coats flapped, the Ph. D.'s squinted through their microscopes, and Shockley moved between the tables conducting the arcane symphony.\n",
            "\n",
            "In pensive moments Shockley looked very much the scholar, with his roundish face, his roundish eyeglasses, and his receding hairline; but Shockley was not a man locked in the pensive mode. He was an enthusiast, a raconteur, and a showman. At the outset his very personality was enough to keep everyone swept up in the great adventure. When he lectured, as he often did at colleges and before professional groups, he would walk up to the lectern and thank the master of ceremonies and say that the only more flattering introduction he had ever received was one he gave himself one night when the emcee didn't show up, whereupon - bango!- a bouquet of red roses would pop up in his hand. Or he would walk up to the lectern and say that tonight he was getting into a hot subject, whereupon he would open up a book and - whump! -a puff of smoke would rise up out of the pages.\n",
            "\n",
            "Shockley was famous for his homely but shrewd examples. One day a student confessed to being puzzled by the concept of amplification, which was one of the prime functions of the transistor. Shockley told him: \"If you take a bale of hay and tie it to the tail of a mule and then strike a match and set the bale of hay on fire, and if you then compare the energy expended shortly thereafter by the mule with the energy expended by yourself in the striking of the match, you will understand the concept of amplification.\"\n",
            "\n",
            "On November 1,1956, Shockley arrived at the shed on South San Antonio Road beaming. Early that morning he had received a telephone call informing him that he had won the Nobel Prize for physics for the invention of the transistor; or, rather, that he was co-winner, along with John Bardeen and Walter Brattain. Shockley closed up shop and took everybody to a restaurant called Dinah's Shack over on El Camino Real, the road to San Francisco that had become Palo Alto's commercial strip. He treated his Ph. D. production line and all the other employees to a champagne breakfast. It seemed that Shockley's father was a mining engineer who spent years out on remote durango terrain, in Nevada, Manchuria and all over the world. Shockley's mother was like Noyce's. She was an intelligent woman with a commanding will. The Shockleys were Unitarians, the Unitarian Church being an offshoot of the Congregational. Shockley Sr. was twenty years older than Shockley's mother and died when Shockley was seventeen. Shockley's mother was determined that her son would someday \"set the world on fire,\" as she once put it. And now he had done it. Shockley lifted a glass of champagne in Dinah's Shack, and it was as if it were a toast back across a lot of hardwrought durango grit Octagon Soap sagebrush Dissenting Protestant years to his father's memory and his mother's determination.\n",
            "\n",
            "That had been a great day at Shockley Semiconductor Laboratory. There weren't many more. Shockley was magnetic, he was a genius, and he was a great research director? the best, in fact. His forte was breaking a problem down to first principles. With a few words and a few lines on a piece of paper he aimed any experiment in the right direction. When it came to comprehending the young engineers on his Ph.D. production line, however, he was not so terrific.\n",
            "\n",
            "It never seemed to occur to Shockley that his twelve highly educated elves just might happen to view themselves the same way he had always viewed himself: which is to say, as young geniuses capable of the sort of inventions Nobel Prizes were given for. One day Noyce came to Shockley with some new results he had found in the laboratory. Shockley picked up the telephone and called some former colleagues at Bell Labs to see if they sounded right. Shockley never even realized that Noyce had gone away from his desk seething. Then there was the business of the new management techniques. Now that he was an entrepreneur, Shockley came up with some new ways to run a company. Each one seemed to irritate the elves more than the one before. For a start, Shockley published their salaries. He posted them on a bulletin board. That way there would be no secrets. Then he started having the employees rate one another on a regular basis. These were so-called peer ratings, a device sometimes used in the military and seldom appreciated even there. Everybody regarded peer ratings as nothing more than popularity contests. But the real turning point was the lie detector. Shockley was convinced that someone in the shed was sabotaging the project. The work was running into inexplicable delays, but the money was running out on schedule. So he insisted that one employee roll up his sleeve and bare his chest and let the electrodes be attached and submit to a polygraph examination. No saboteur was ever found.\n",
            "\n",
            "There were also some technical differences of opinion. Shockley was interested in developing a so-called four-layer diode. Noyce and two of his fellow elves, Gordon Moore and Jean Hoerni, favored transistors. But at bottom it was dissatisfaction with the boss and the lure of entrepreneurship that led to what happened next.\n",
            "\n",
            "In the summer of 1957 Moore, Hoerni, and five other engineers, but not Noyce, got together and arrived at what became one of the primary business concepts of the young semiconductor industry. In this business, it dawned on them, capital assets in the traditional sense of plant, equipment, and raw materials counted for next to nothing. The only plant you needed was a shed big enough for the worktables. The only equipment you needed was some kilns, goggles, microscopes, tweezers, and diamond cutters. The materials, silicon and germanium, came from dirt and coal. Brainpower was the entire franchise. If the seven of them thought they could do the job better than Shockley, there was nothing to keep them from starting their own company. On that day was born the concept that would make the semiconductor business as wild as show business: defection capital.\n",
            "\n",
            "The seven defectors went to the Wall Street firm of Hayden Stone in search of start-up money. It was at this point that they realized they had to have someone to serve as administrator. So they turned to Noyce, who was still with Shockley. None of them, including Noyce, had any administrative experience, but they all thought of Noyce as soon as the question came up.  They didn't know exactly what they were looking for... but Noyce was the one with the halo. He agreed to join them. He would continue to wear a white lab coat and goggles and do research. But he would also be the coordinator. Of the eight of them, he would be the one man who kept track, on a regular basis, of all sides of the operation. He was twenty-nine years old.\n",
            "\n",
            "Arthur Rock of Hayden Stone approached twenty-two firms before he finally hooked the defectors up with the Fairchild Camera and Instrument Corporation of New York. Fairchild was owned by Sherman Fairchild, a bachelor bon vivant who lived in a futuristic town house on East Sixty-fifth Street in Manhattan. The house was in two sections connected by ramps. The ramps were fifty feet long in some cases, enclosed in glass so that you could go up and down the ramps in all weather and gaze upon the marble courtyard below. The place looked like something from out of the Crystal Palace of Ming in Flash Gordon. The ramps were for his Aunt May, who lived with him and was confined to a wheelchair and had even more Fairchild money than he did. The chief executive officer of Fairchild was John Carter, who had just come from the Corning Glass Company. He had been the youngest vice president in the history of that old-line, family-owned firm. He was thirty-six. Fairchild Camera and Instrument gave the defectors the money to start up the new company, Fairchild Semiconductor, with the understanding that Fairchild Carnera and Instrument would have the right to buy Fairchild Semiconductor for $3 million at any time within the next eight years.\n",
            "\n",
            "Shockley took the defections very hard. He seemed as much hurt as angered, and he was certainly angry enough. A friend of Shockley's said to Noyce's wife, Betty: \"You must have known about this for quite some time. How on earth could you not tell me?\" That was a baffling remark, unless one regarded Shockley as the father of the transistor and the defectors as the children he had taken beneath his mantle of greatness.\n",
            "\n",
            "If so, one had a point. Years later, if anyone had drawn up a family tree for the semiconductor industry, practically every important branch would have led straight from Shockley's shed on South San Antonio Road. On the other hand, Noyce had been introduced to the transistor not by Shockley but by John Bardeen, via Grant Gale, and not in California but back in his own hometown, Grinnell, Iowa.\n",
            "\n",
            "For that matter, Josiah Grinnell had been a defector in his day, too, and there was no record that he had ever lost a night's sleep over it.\n",
            "\n",
            "Noyce, Gordon Moore, Jean Hoerni and the other five defectors set up Fairchild Semiconductor in a two-story warehouse building some speculator had built out of tilt-up concrete slabs on Charleston Avenue in Mountain View, about twelve blocks from Shockley's operation. Mountain View was in the northern end of the Santa Clara Valley. In the business world the valley was known mainly for its apricot, pear, and plum orchards. From the work bays of the light-industry sheds that the speculators were beginning to build in the valley you could look out and see the raggedy little apricot trees they had never bother to buldoze after they bought the land from the farmers. A few well known electronics firms were already in the valley: General Electric and IBM, as well as a company that had started up locally, Hewlett-Packard. Stanford University was encouraging engineering concerns to locate near Palo alto and use the university's research facilities. The man who ran the program was a friend of Shockley's, Frederick E. Terman, whose father had originated the first scientific measurement of human intelligence, the Stanford-Binet IQ test.\n",
            "\n",
            "IBM had a facility in the valley that was devoted specifically to research rather than production. Both IBM and Hewlett-Packard were trying to develop a highly esoteric and colossally expensive new device, the electronic computer. Shockley had been the first entrepreneur to come to the area to make semiconductors. After the defections his operation never got off the ground. Here in the Santa Clara Valley, that left the field to Noyce and the others at Fairchild.\n",
            "\n",
            "Fairchild's start-up couldn't have come at a better time. By 1957 there was sufficient demand from manufacturers who merely wanted transistors instead of vacuum tubes, for use in radios and other machines, to justify the new operation. But it was also in 1957 that the Soviet Union launched Sputnik I. In the electronics industry the ensuing space race had the effect of coupling two new inventions?the transistor and the computer?and magnifying the importance of both.\n",
            "\n",
            "The first American electronic computer known as ENIAC, had been developed by the Army during the Second World War, chiefly as a means of computing artillery and bomb trajectories. The machine was a monster. It was one hundred feet long and ten feet high and required eighteen thousand vacuum tubes. The tubes generated so much heat, the temperature in the room sometimes reached 120 degrees. What the government needed was small computers that could be installed in rockets to provide automatic onboard guidance. Substituting transistors for vacuum tubes was an obvious way to cut down on the size. After Sputnik the glamorous words in the semiconductor business were computers and miniaturization.\n",
            "\n",
            "Other than Shockley Semiconductor, Fairchild was the only semiconductor company in the Santa Clara Valley, but Texas Instruments had entered the field in Dallas, as had Motorola in Phoenix and Transitron and Raytheon in the Boston area, where a new electronics industry was starting up as MIT finally began to comprehend the new technology. These firms were all racing to refine the production of transistors to the point where they might command the market. So far refinement had not been anybody's long suit. No tourist dropping by Fairchild, Texas Instruments, Motorola, or Transitron would have had the faintest notion he was looking in on the leading edge of the most advanced of all industries, electronics. The work bays, where the transistors were produced looked like slightly sunnier versions of the garment sweatshops of San Francisco's Chinatown. Here were rows of women hunched over worktables, squinting through microscopes doing the most tedious and frustrating sort of manual labor, cutting layers of silicon apart with diamond cutters, picking little rectangles of them up with tweezers, trying to attach wires to them, dropping them, rummaging around on the floor to find them again, swearing, muttering, climbing back up to their chairs, rubbing their eyes, squinting back through the microscopes, and driving themselves crazy some more. Depending on how well the silicon or germanium had been cooked and doped, anywhere from 50 to 90 percent of the transistors would turn out to be defective even after all that, and sometimes the good ones would be the ones that fell on the floor and got ruined.\n",
            "\n",
            "Even for a machine as simple as a radio the individual transistors had to be wired together, by hand, until you ended up with a little panel that looked like a road map of West Virginia. As for a computer, the wires inside a computer were sheer spaghetti.\n",
            "\n",
            "Noyce had figured out a solution. But fabricating it was another matter. There was something primitive about cutting individual transistors out of sheets of silicon and then wiring them back together in various series. Why not put them all on a single piece of silicon without wires? The problem was that you would also have to carve, etch, coat, and otherwise fabricate the silicon to perform all the accompanying electrical functions as well, the functions ordinarily performed by insulators, rectifiers, resistors, and capacitors. You would have to create an entire electrical system, an entire circuit, on a little wafer or chip.\n",
            "\n",
            "Noyce realized that he was not the only engineer thinking along these lines, but he had never even heard of Jack Kilby. Kilby was a thirty-six-year-old engineer working for Texas lnstruments in Dallas. In January, 1959 Noyce made his first detailed notes about a complete solid-state circuit. A month later Texas Instruments announced that Jack Kilby had invented one. Kilby's integrated circuit, as the invention was called, was made of germanium. Six months later Noyce created a similar integrated circuit made of silicon and using a novel insulating process developed by Jean Hoerni. Noyce's silicon device turned out to be more efficient and more practical to produce than Kilby's and set the standard for the industry. So Noyce became known as the co-inventor of the integrated circuit. Nevertheless, Kilby had unquestionably been first. There was an ironic echo of Shockley here. Strictly speaking, Bardeen and Brattain, not Shockley, had invented the transistor, but Shockley wasn't bashful about being known as the co-inventor. And, now eleven years later, Noyce wasn't turning bashful either.\n",
            "\n",
            "Noyce knew exactly what he possessed in this integrated circuit, or microchip, as the press would call it. Noyce knew that he had discovered the road to El Dorado.\n",
            "\n",
            "El Dorado was the vast, still-virgin territory of electricity. Electricity was already so familiar a part of everyday life, only a few research engineers understood just how, young and unexplored the terrain actually was. It had been only eighty years since Edison invented the light bulb in 1879. It had been less than fifty years since Lee De Forest, an inventor from Council Bluffs, Iowa had invented the vacuum tube. The vacuum tube was based on the light bulb, but the vacuum tube opened up fields the light bulb did not even suggest: long distance radio and telephone communicatlon. Over the past ten vears, since Bardeen and Brattain invented it in 1948, the transistor had become the modern replacement for the vacuum tube. And now came Kilby's and Noyce's integrated circuit. The integrated circuit was based on the transistor, but the integrated circuit opened up fields the transistor did not even suggest. The integrated circuit made it possible to create miniature computers, to put all the functions of the mighty ENIAC on a panel the size of a playing card. Thereby the integrated circuit opened up every field of engineering imaginable, from voyages to the moon to robots, and many fields that had never been imagined, such as electronic guidance counseling. It opened up so many fields that no one could even come up with a single name to include them all. \"The second industrial revolution,\" \"the age of the computer, \" \"the microchip universe, \" \"the electronic grid,\" none of them, not even the handy neologism \"high tech. \" could encompass all the implications.\n",
            "\n",
            "The importance of the integrated circuit was certainly not lost on John Carter and Fairchild Camera back un New York. In 1959 they exercised their option to buy Fairchild Semiconductor for $3 million. The next day Noyce, Moore, Hoerni, and the other five former Shockley elves woke up rich, or richer than they had ever dreamed of being. Each received $250,000 worth of Fairchild stock.\n",
            "\n",
            "Josiah Grinnell grew livid on the subject of alcohol. But he had nothing against money. He would have approved.\n",
            "\n",
            "Noyce didn't know what to make of his new wealth. He was thirty-one years old. For the past four years, ever since he had gone to work for Shockley, the semiconductor business had not seemed like a business at all but an esoteric game in which young electrical engineers competed for attaboy's and the occasional round of applause after delivering a paper before the IEEE, the Institute of Electrical and Electronics Engineers. It was a game supercharged by the fact that it was being played in the real world, to use a term that annoyed scientists in the universities. Someone?Arnold Beckman, Sherman Fairchild, whoever?was betting real money, and other bands of young elves, at Texas Instruments, RCA, Bell, were out there competing with you by the real world's rules, which required that you be practical as well as brilliant. Noyce started working for Fairchild Semiconductor in 1957 for twelve thousand dollars a year. When it came to money, he had assumed that he, Like his father, would always be on somebody's payroll. Now, in 1959, when he talked to his father, he told him: \"The money doesn't seem real. It's just a way of keeping score.\"\n",
            " \n",
            "\n",
            "Noyce took his family to visit his parents fairly often. He and Betty now had three children, Bill, Penny, and Polly, who was a year old. When they visited the folks, they went off to church on Sunday with the folks as if it were all very much a part of their lives. In fact, Noyce had started drifting away from Congregationalism and the whole matter of churchgoing after he entered MIT. It was not a question of rejecting it. He never rejected anything about his upbringing in Grinnell. It was just that he was suddenly heading off somewhere else, down a different road.\n",
            "\n",
            "In that respect Noyce was like a great many bright young men and women from Dissenting Protestant families in the Middle West after the Second World War. They had been raised as Baptists, Methodists, Congregationalists, Presbytenans, United Brethren, whatever. They had been led through the church door and prodded toward religion, but it had never come alive for them. Sundays made their skulls feel like dried-out husks. So they slowly walked away from the church and silently, without so much as a growl of rebellion, congratulated themselves on their independence of mind and headed into another way of life. Only decades later, in most cases, would they discover how, absentmindedly, inexplicably, they had brought the old ways along for the journey nonetheless. It was as if... through some extraordinary mistake... they had been sewn into the linings of their coats!\n",
            "\n",
            "Now that he had some money, Bob Noyce bought a bigger house. His and Betty's fourth child, Margaret, was born in 1960, and they wanted each child to have a bedroom. But the thought of moving into any of the \"best\" neighborhoods in the Palo Alto area never even crossed his mind. The best neighborhoods were to be found in Atherton, in Burlingame, which was known as very social, or in the swell old sections of Palo Alto, near Stanford University. Instead, Noyce bought a California version of a French country house in Los Altos, a white stucco house with a steeply pitched roof. It was scenic up there in the hills, and cooler in the summer than it was down in the flatlands near the bay. The house had plenty of room, and he and Betty would be living a great deal better than most couples their age, but Los Altos folks had no social cachet and the house was not going to make House & Garden come banging on the door. No one could accuse them of being ostentatious.\n",
            "\n",
            "John Carter appointed Noyce general manager of the entire division, Fairchild Semiconductor, which was suddenly one of the hottest new outfits in the business world. NASA chose Noyce's integrated circuits for the first computers that astronauts would use on board their spacecraft (in the Gemini program). After that, orders poured in. In ten years Fairchild sales rose from a few thousand dollars a year to $130 million, and the number of employees rose from the onginal band of elves to twelve thousand. As the general manager, Noyce now had to deal with a matter Shockley had dealt with clumsily and prematurely, namely, new management techniques for this new industry.\n",
            "\n",
            "One day John Carter came to Mountain Vlew for a close look at Noyce's semiconductor operation. Carter's office in Syosset, Long Island, arranged for a limousine and chauffeur to be at his disposal while he was in California. So Carter arrived at the tilt-up concrete building in Mountain Vlew in the back of a black Cadillac limousine with a driver in the front wearing the complete chauffeur's uniform? the black suit, the white shirt, the black necktie, and the black visored cap. That in itself was enough to turn heads at Fairchild Semiconductor. Nobody had ever seen a limousine and a chauffeur out there before. But that wasn't what fixed the day in everybody's memory. It was the fact that the driver stayed out there for almost eight hours, doing nothing. He stayed out there in his uniform, with his visored hat on, in the front seat of the limousine, all day, doing nothing but waiting for a man who was somewhere inside. John Carter was inside having a terrific chief executive officer's time for himself. He took a tour of the plant, he held conferences, he looked at figures, he nodded with satisfaction, he beamed his urbane Fifty-seventh Street Biggie CEO charm. And the driver sat out there all day engaged in the task of supporting a visored cap with his head. People started leaving their workbenches and going to the front windows just to take a look at this phenomenon. It seemed that bizarre. Here was a serf who did nothing all day but wait outside a door in order to be at the service of the haunches of his master instantly, whenever those haunches and the paunch and the jowls might decide to reappear. It wasn't merely that this little peek at the New York-style corporate high life was unusual out here in the brown hills of the Santa Clara Valley. It was that it seemed terribly wrong.\n",
            "\n",
            "A certain instinct Noyce had about this new industry and the people who worked in it began to take on the outlines of a concept. Corporations in the East adopted a feudal approach to organization, without even being aware of it. There were kings and lords, and there were vassals, soldiers, yeomen, and serfs, with layers of protocol and perquisites, such as the car and driver, to symbolize superiority and establish the boundary lines. Back east the CEOs had offices with carved paneling, fake fireplaces, escritoires, bergeres, leather-bound books, and dressing rooms, like a suite in a baronial manor house. Fairchild Semiconductor needed a strict operating structure, particularly in this period of rapid growth, but it did not need a social structure. In fact, nothing could be worse. Noyce realized how much he detested the eastern corporate system of class and status with its endless gradations, topped off by the CEOs and vice-presidents who conducted their daily lives as if they were a corporate court and aristocracy. He rejected the idea of a social hierarchy at Fairchild.\n",
            "\n",
            "Not only would there be no limousines and chauffeurs, there would not even be any reserved parking places. Work began at eight A.M. for one and all, and it would be first come, first served, in the parking lot, for Noyce, Gordon Moore, Jean Hoerni, and everybody else. \"If you come late,\" Noyce liked to say, \"you just have to park in the back forty.\" And there would be no baronial office suites. The glorified warehouse on Charleston Road was divided into work bays and a couple of rows of cramped office cubicles. The cubicles were never improved. The decor remained Glorified Warehouse, and the doors were always open. Half the time Noyce, the chief administrator, was out in the laboratory anyway, wearing his white lab coat. Noyce came to work in a coat and tie. but soon the jacket and the tie were off. and that was fine for any other man in the place too. There were no rules of dress at all, except for some unwritten ones. Dress should be modest, modest in the social as well as the moral sense. At Fairchild there were no hard-worsted double-breasted pinstripe suits and shepherd's-check neckties. Sharp, elegant, fashionable, or alluring dress was a social blunder. Shabbiness was not a sin. Ostentation was.\n",
            "\n",
            "During the start-up phase at Fairchild Semiconductor there had been no sense of bosses and employees. There had been only a common sense of struggle out on a frontier. Everyone had internalized the goals of the venture. They didn't need exhortations from superiors. Besides, everyone had been so young! Noyce, the administrator or chief coordinator or whatever he should be called, had been just about the oldest person on the premises, and he had been barely thirty. And now, in the early 1960s, thanks to his athletic build and his dark brown hair with the Campus Kid hairline, he still looked very young. As Fairchild expanded, Noyce didn't even bother trying to find \"experienced management personnel.\" Out here in California, in the semiconductor industry, they didn't exist. Instead, he recruited engineers right out of the colleges and graduate schools and gave them major responsibilities right off the bat. There was no \"staff,\" no \"top management\" other than the eight partners themselves. Major decisions were not bucked up a chain of command. Noyce held weekly meetings of people from all parts of the operation, and whatever had to be worked out was worked out right there in the room. Noyce wanted them all to keep internalizing the company's goals and to provide their own motivations, just as they had during the start-up phase. If they did that, they would have the capacity to make their own decisions.\n",
            "\n",
            "The young engineers who came to work for Fairchild could scarcely believe how much responsibility was suddenly thrust upon them. Some twenty-four-year-old just out of graduate school would find himself in charge of a major project with no one looking over his shoulder. A problem would come up, and he couldn't stand it, and he would go to Noyce and hyperventilate and ask him what to do. And Noyce would lower his head, turn on his 100 ampere eyes, listen, and say: \"Look, here are your guidelines. You've got to consider A, you've got to consider B. and you've got to consider C. \" Then he would turn on the Gary Cooper smile: \"But if you think I'm going to make your decision for you, you're mistaken. Hey... it's your ass.\"\n",
            "\n",
            "Back east, in the conventional corporation, any functionary wishing to make an unusually large purchase had to have the approval of a superior or two or three superiors or even a committee, a procedure that ate up days, weeks, in paperwork. Noyce turned that around. At Fairchild any engineer, even a weenie just out of Cal Tech, could make any purchase he wanted, no matter how enormous, unless someone else objected strongly enough to try to stop it. Noyce called this the Short Circuit Paper Route. There was only one piece of paper involved, the piece of paper the engineer handed somebody in the purchasing department.\n",
            "\n",
            "The spirit of the start-up phase! My God! Who could forget the exhilaration of the past few years! To be young and free out here on the silicon frontier! Noyce was determined to maintain that spirit during the expansion phase. And for the time being, at least. here in the early 1960s. the notion of a permanent start-up operation didn't seem too farfetched. Fairchild was unable to coast on the tremendous advantage Noyce's invention of the integrated circuit had provided. Competitors were setting up shop in the Santa Clara Valley like gold rushers. And where did they come from? Why, from Fairchild itself! And how could that be? Nothing to it... Defection capital!\n",
            "\n",
            "Defectors (or redefectors) from Fairchild started up more than fifty companies, all making or supplying microchips. Raytheon Semiconductor, Signetics. General Microelectronics, Intersil. Advanced Micro Devices. Qualidyne? off they spun, each with a sillier pseudotech engineerologism for a name than the one before. Defectors! What a merry game that was. Jean Hoerni and three of the other original eight defectors from Shockley defected from Fairchild to form what would soon become known as Teledyne Semiconductors, and that was only round one. After all, why not make all the money for yourself! The urge to use defection capital was so irresistible that the word defection,with its note of betrayal, withered away. Defectors were merely the Fairchildren, as Adam Smith dubbed them. Occasionally defectors from other companies, such as the men from Texas Instruments and Westinghouse who started Siliconix, moved into the Santa Clara Valley to join the free-for-all. But it was the Fairchildren who turned the Santa Clara Valley into the Silicon Valley. Acre by acre the fruit trees were uprooted, and two-story Silicon Modern office buildings and factories went up. The state of California built a new freeway past the area, Route 280. Children heard the phrase \"Silicon Valley\" so often, they grew up thinking it was the name on the map.\n",
            "\n",
            "Everywhere the Fairchild émigrés went, they took the Noyce approach with them. It wasn't enough to start up a company; you had to start up a community, a community in which there were no social distinctions, and it was first come, first served, in the parking lot, and everyone was supposed to internalize the common goals. The atmosphere of the new companies was so democratic, it startled businessmen from the East. Some fifty-five-year-old biggie with his jowls swelling up smoothly from out of his F. R. Tripler modified-spread white collar and silk jacquard print necktie would call up from GE or RCA and say, \"This is Harold B. Thatchwaite,\" and the twenty-three-year-old secretary on the other end of the line, out in the Silicon Valley, would say in one of those sunny blond pale-blue-eyed California voices: \"Just a minute, Hal, Jack will be right with you. \" And once he got to California and met this Jack for the first time, there he would be, the CEO himself, all of thirty-three vears old, wearing no jacket, no necktie, just a checked shirt, khaki pants, and a pair of moccasins with welted seams the size of jumper cables. Naturally the first sounds out of this Jack's mouth would be: \"Hi, Hal. \"\n",
            "\n",
            "It was the 1960s. and people in the East were hearing a lot about California surfers, California bikers, hot rodders, car customizers, California hippies, and political protesters, and the picture they got was of young people in jeans and T-shirts who were casual, spontaneous, impulsive, emotional, sensual, undisciplined, and obnoxiously proud of it. So these semiconductor outfits in the Silicon Valley with their CEOs dressed like camp counselors struck them as the business versions of the same thing.\n",
            "\n",
            "They couldn't have been more wrong. The new breed of the Silicon Valley lived for work. They were disciplined to the point of back spasms. They worked long hours and kept working on weekends. They became absorbed in their companies the way men once had in the palmy days of the automobile industry. In the Silicon Valley a young engineer would go to work at eight in the morning, work right through lunch, leave the plant at six-thirty or seven, drive home, play with the baby for half an hour, have dinner with his wife, get in bed with her, give her a quick toss, then get up and leave her there in the dark and work at his desk for two or three hours on \"a coupla things I had to bring home with me.\"\n",
            "\n",
            "Or else he would leave the plant and decide, well, maybe he would drop in at the Wagon Wheel for a drink before he went home. Every year there was some place, the Wagon Wheel, Chez Yvonne, Rickey's, the Roundhouse, where members of this esoteric fraternity, the young men and women of the semiconductor industry, would head after work to have a drink and gossip and brag and trade war stories about phase jitters, phantom circuits, bubble memories, pulse trains, bounceless contacts, burst modes, leapfrog tests, p-n junctions, sleeping-sickness modes, slow-death episodes, RAMs, NAKs, MOSes, PCMs, PROMs, PROM blowers, PROM burners, PROM blasters, and teramagnitudes, meaning multiples of a million millions. So then he wouldn't get home until nine, and the baby was asleep, and dinner was cold, and the wife was frosted off, and he would stand there and cup his hands as if making an imaginary snowball and try to explain to her... while his mind trailed off to other matters, LSIs, VLSIs, alpha flux, de-rezzing, forward biases, parasitic signals, and that terasexy little cookie from Signetics he had met at the Wagon Wheel, who understood such things.\n",
            "\n",
            "It was not a great way of life for marriages. By the late 1960s the toll of divorces seemed to those in the business to be as great as that of NASA's boomtowns, Cocoa Beach, Florida. and Clear Lake. Texas, where other young engineers were giving themselves over to a new technology as if it were a religious mission. The second time around the tended to \"intramarry. \" They married women who worked for Silicon Valley companies and who could comprehend and even learn to live with their twenty-four-hour obsessions. In the Silicon Valley an engineer was under pressure to reinvent the integrated circuit every six months. In 1959 Noyce's invention had made it possible to put an entire electrical circuit on a chip of silicon the size of a fingernail. By 1964 you had to know how to put ten circuits on a chip that size just to enter the game, and the stakes kept rising. Six years later the figure was one thousand circuits on a single chip; six years after that it would be thirty-two thousand, and evervone was talking about how the real breakthrough would be sixty-four thousand. Noyce himself led the race; by 1968 he had a dozen new integrated circuit and transistor patents. And what amazing things such miniatunzation made possible! In December 1968 NASA sent the first manned flight to the moon, Apollo 8. Three astronauts, Frank Borman. James Lovell, and William Anders, flew into earth orbit, then fired a rocket at precisely the right moment in order to break free of the earth's gravitational field and fly through the minute \"window\" in space that would put them on course to the moon rather than into orbit around the sun, from which there could be no return. They flew to the moon, went into orbit around it, saw the dark side, which no one had ever seen, not even with a telescope, then fired a rocket at precisely the right moment in order to break free of the moon's gravitational pull and go into the proper trajectory for their return to earth. None of it would have been possible without onboard computers. People were beginning to talk about all that the space program was doing for the computer sciences. Noyce knew it was the other way around. Only the existence of a miniature computer two feet long, one foot wide, and six inches thick?exactly three thousand times smaller than the old ENIAC and far faster and more reliable?made the flight of Apollo 8 possible. And there would have been no miniature computer without the integrated circuits invented by Noyce and Kilby and refined by Noyce and the young semiconductor zealots of the Silicon Valley, the new breed who were building the road to El Dorado.\n",
            "\n",
            "Noyce used to go into a slow burn that year, 1968, when the newspapers, the magazines, and the television networks got on the subject of the youth. The youth was a favorite topic in 1968. Riots broke out on the campuses as the antiwar movement reached its peak following North Vietnam's Tet offensive. Black youths rioted in the cities. The Yippies, supposedly a coalition of hippies and campus activists, managed to sabotage the Democratic National Convention by setting off some highly televised street riots. The press seemed to enjoy presenting these youths as the avant-garde who were sweeping aside the politics and morals of the past and shaping America's future. The French writer Jean-Francois Revel toured American campuses and called the radical youth homo novus, \"the New Man,\" as if they were the latest, most advanced product of human evolution itself. after the manner of the superchildren in Arthur C. Clarke's Childhood's End.\n",
            "\n",
            "Homo novus? As Noyce saw it, these so-called radical youth movements were shot through with a yearning for a preindustnal Arcadia. They wanted, or thought they wanted, to return to the earth and live on organic vegetables and play folk songs from the sixteenth and seventeenth centuries. They were anti technology. They looked upon science as an instrument monopolized by the military-industrial complex. They used this phrase, \"the military-industrial complex,\" all the time. If industry or the military underwrote scientific research in the universities?and they underwrote a great deal of it?then that research was evil. The universities were to be pure and above exploitation, except, of course, by ideologues of the Left. The homo novus had set up a chain of logic that went as follows: since science equals the military-industrial complex, and the military-industrial complex equals capitalism, and capitalism equals fascism, therefore science equals fascism. And therefore, these much-vaunted radical youths, these shapers of the future, attacked the forward positions of American technology, including the space program and the very idea of, the computer. And therefore these creators of the future were what? They were Luddites. They wanted to destroy the new machines. They were the reactionaries of the new age. They were an avant-garde to the rear. They wanted to call off the future. They were stillborn, ossified, prematurely senile.\n",
            "\n",
            "If you wanted to talk about the creators of the future, well, here they were here, in the Silicon Valley! Just before Apollo 8 circled the moon, Bob Noyce turned forty-one. By age forty-one he had become such a good skier, people were urging him to enter competitions. He had taken up hang gliding and scuba diving. When his daughter Penny was almost fourteen, he asked her what she wanted for her birthday, and she said she wanted to drop from an airplane by parachute. Noyce managed to convince her to settle for glider lessons instead. Then, because it made him restless to just stand around an airfield and watch her soar up above, he took flying lessons, bought an airplane, and began flying the family up through the mountain passes to Aspen, Colorado, for skiing weekends. He had the same lean, powerful build as he had had twenty years before, when he was on the swimming team at Grinnell College. He had the same thick dark brown hair and the same hairline. It looked as if every hair in his head were nailed in. He looked as if he could walk out the door any time he wanted to and win another Midwest Conference diving championship. And he was one of the oldest CEOs in the semiconductor business! He was the Edison of the bunch! He was the father of the Silicon Valley!\n",
            "\n",
            "The rest of the hotshots were younger. It was a business dominated by people in their twenties and thirties. In the Silicon Valley there was a phenomenon known as burnout. After five or ten years of obsessive racing for the semiconductor high stakes, five or ten years of lab work, work lunches, workaholic drinks at the Wagon Wheel, and work-battering of the wife and children, an engineer would reach his middle thirties and wake up one day; and he was finished. The game was over. It was called burnout, suggesting mental and physical exhaustion brought about by overwork. But Noyce was convinced it was something else entirely. It was...age, or age and status. In the semiconductor business, research engineering was like pitching in baseball; it was 60 percent of the game. Semiconductor research was one of those highly mathematical sciences, such as microbiology, in which, for reasons one could only guess at, the great flashes, the critical moments of inspiration, came mainly to those who were young, often to men in their twenties. The thirty-five year-old burnouts weren't suffering from exhaustion, as Noyce saw it. They were being overwhelmed, outperformed, by the younger talent coming up behind them. It wasn't the central nervous system that was collapsing, it was the ego.\n",
            "\n",
            "Now here you saw youth in the vanguard, on the leading edge. Here you saw the youths who were, in fact, shaping the future. Here you saw, if you insisted on the term, the homo novus!\n",
            "\n",
            "But why insist? For they were also of the same stripe as Josiah Grinnell, who had founded Grinnell, Iowa, at the age of thirty three!\n",
            "\n",
            "It was in 1968 that Noyce pulled off the redefection of all redefections. Fairchild Semiconductor had generated tremendous profits for the parent company back east. It now appeared to Noyce that John Carter and Sherman Fairchild had been diverting too much of that money into new start-up ventures, outside the semiconductor field. As a matter of fact, Noyce disliked many things \"back east.\" He disliked the periodic trips to New York, for which he dressed in gray suits, white shirts, and neckties and reported to the royal corporate court and wasted days trying to bring them up to date on what was happening in California. Fairchild was rather enlightened, for an eastern corporation, but the truth was, there was no one back east who understood how to run a corporation in the United States in the second half of the twentieth century. Back east they had never progressed beyond the year 1940. Consequently, they were still hobbled by all of the primitive stupidities of bureaucratism and labor-management battles. They didn't have the foggiest comprehension of the Silicon Valley idea of a corporate community. The brightest young businessmen in the East were trained?most notably at the Harvard Business School?to be little Machiavellian princes. Greed and strategy were all that mattered. They were trained for failure.\n",
            "\n",
            "Noyce and Gordon Moore, two of the three original eight Shockley elves still at Fairchild, decided to form their own company. They went to Arthur Rock, who had helped provide the start-up money for Fairchild Semiconductor when he was at Hayden Stone. Now Rock had his own venture-capital operation. Noyce took great pleasure in going through none of the steps in corporate formation that the business schools talked about. He and Moore didn't even write up a proposal. They merely told Rock what they wanted to do and put up $500,000 of their own money, $250,000 each. That seemed to impress Rock more than anything they could possibly have written down, and he rounded up $2.51 million of the start-up money. A few months later another $300,000 came, this time from Grinnell College. Noyce had been on the college's board of trustees since 1962, and a board member had asked him to give the college a chance to invest, should the day come when he started his own company. So Grinnell College became one of the gamblers betting on Noyce and Intel?the pseudotech engineerologism Noyce and Moore dreamed up as the corporate name. Josiah Grinnell would have loved it.\n",
            "\n",
            "The defection of Noyce and Moore from Fairchild was an earthquake even within an industry jaded by the very subject of defections. In the Silicon Valley everybody had looked upon Fairchild as Noyce's company. He was the magnet that held the place together. With Noyce gone, it was obvious that the entire work force would be up for grabs. As one wag put it, \"People were practically driving trucks over to Fairchild Semiconductor and loading up with employees.\" Fairchild responded by pulling off one of the grossest raids in corporate history. One day the troops who were left at Fairchild looked across their partitions and saw a platoon of young men with terrific suntans moving into the executive office cubicles. They would always remember what terrific suntans they had. They were C. Lester Hogan, chief executive officer of the Motorola semiconductor division in Phoenix, and his top echelon of engineers and administrators. Or, rather, C. Lester Hogan of Motorola until yesterday. Fairchild had hired the whole bunch away from Motorola and installed them in place of Noyce & Co. like a matched set. There was plenty of sunshine in the Santa Clara Valley, but nobody here had suntans like this bunch from Phoenix. Fairchild had lured the leader of the young sun-gods out of the Arizona desert in the most direct way imaginable. He had offered him an absolute fortune in money and stock. Hogan received so much, the crowd at the Wagon Wheel said, that henceforth wealth in the Silicon Valley would be measured in units called hogans. *(Dirk Hanson, The New Alchemists, Boston: Little Brown, 1982).\n",
            "\n",
            "Noyce and Moore, meanwhile, started up Intel in a tilt-up concrete building that Jean Hoerni and his group had built, but no longer used, in Santa Clara, which was near Mountain View. Once again there was an echo of Shockley. They opened up shop with a dozen bright young electrical engineers, plus a few clerical and maintenance people, and bet everything on research and product development. Noyce and Moore, like Shockley, put on the white coats and worked at the laboratory tables. They would not be competing with Fairchild or anyone else in the already established semiconductor markets. They had decided to move into the most backward area of computer technology, which was data storage, or \"memory.\" A computer's memory was stored in ceramic ringlets known as cores. Each ringlet contained one \"bit\" of information, a \"yes\" or a \"no, \" in the logic of the binary system of mathematics that computers employ. Within two years Noyce and Moore had developed the 1103 memory chip, a chip of silicon and polysilicon the size of two letters in a line of type. Each chip contained four thousand transistors, did the work of a thousand ceramic ringlets, and did it faster. The production line still consisted of rows of women sitting at tables as in the old shed-and-rafter days, but the work bays now looked like something from out of an intergalachc adventure movie. The women engraved the curcuits on the silicon photographically, wearing antiseptic Mars Voyage suits, headgear, and gloves because a single speck of dust could ruin one of the miniature circuits. The circuits were so small that \"miniature\" no longer sounded small enough. The new word was \"microminiature.\" Everything now took place in an air-conditioned ice cube of vinyl tiles, stainless steel, fluorescent lighting, and backlit plastic.\n",
            "\n",
            "The 1103 memory chip opened up such a lucrative field that other companies, including Fairchild, fought desperately just to occupy the number-two position, filling the orders Intel couldn't take care of. At the end of Intel's first year in business, which had been devoted almost exclusively to research, sales totaled less than three thousand dollars and the work force numbered forty-two. In 1972, thanks largely to the 1103 chip, sales were $23.4 million and the work force numbered 1,002. In the next year sales almost tripled, to $66 million, and the work force increased two and a half times, to 2,528.\n",
            "\n",
            "So Noyce had the chance to run a new company from start-up to full production precisely the way he thought Shockley should have run his in Palo Alto back in the late 1950s. From the beginning Noyce gave all the engineers and most of the office workers stock options. He had learned at Fairchild that in a business so dependent upon research, stock options were a more powerful incentive than profit sharing. People sharing profits naturally wanted to concentrate on products that were already profitable rather than plunge into avant-garde research that would not pay off in the short run even if it were successful. But people with stock options lived for research breakthroughs. The news would send a semiconductor company's stock up immediately, regardless of profits.\n",
            "\n",
            "Noyce's idea was that every employee should feel that he could go as far and as fast in this industry as his talent would take him. He didn't want any employee to look at the structure of Intel and see a complex set of hurdles. It went without saying that there would be no social hierarchy at Intel, no executive suites, no pinstripe set, no reserved parking places, or other symbols of the hierarchy. But Noyce wanted to go further. He had never liked the business of the office cubicles at Fairchild. As miserable as they were, the mere possession of one symbolized superior rank. At Intel executives would not be walled off in offices. Everybody would be in one big room. There would be nothing but low partitions to separate Noyce or anyone else from the lowliest stock boys trundling in the accordion printout paper. The whole place became like a shed. When they first moved into the building, Noyce worked at an old, scratched, secondhand metal desk. As the company expanded, Noyce kept the same desk, and new stenographers, just hired, were given desks that were not only newer but bigger and better than his. Everybody noticed the old beat-up desk, since there was nothing to keep anybody from looking at every inch of Noyce's office space.  Noyce enjoyed this subversion of the eastern corporate protocol of small metal desks for underlings and large wooden desks for overlords.\n",
            "\n",
            "At Intel, Noyce decided to eliminate the notion of levels of management altogether. He and Moore ran the show: that much was clear. But below them there were only the strategic business segments, as they called them. They were comparable to the major departments in an orthodox corporation, but they had far more autonomy. Each was run like a separate corporation. Middle managers at Intel had more responsibility than most vice-presidents back east. They were also much younger and got lower-back pain and migraines earlier. At Intel, if the marketing division had to make a major decision that would affect the engineering division, the problem was not routed up a hierarchy to a layer of executives who oversaw both departments. Instead, \"councils,\" made up of people already working on the line in the divisions that were affected, would meet and work it out themselves. The councils moved horizontally, from problem to problem. They had no vested power. They were not governing bodies but coordinating councils.\n",
            "\n",
            "Noyce was a great believer in meetings. The people in each department or work unit were encouraged to convene meetings whenever the spirit moved them. There were rooms set aside for meetings at Intel, and they were available on a first come, first served basis, just like the parking spaces. Often meetings were held at lunch time. That was not a policy; it was merely an example set by Noyce. There were no executive lunches at Intel. Back east, in New York, executives treated lunch as a daily feast of the nobility, a sumptuous celebration of their eminence, in the Lucullan expense-account restaurants of Manhattan. The restaurants in the East and West Fifties of Manhattan were like something from out of a dream. They recruited chefs from all over Europe and the Orient. Pasta primavera, saucisson, sorrel mousse, homard cardinal, terrine de legumes Montesquiou, paillard de pigeon, medallions of beef Chinese Gordon, veal Valdostana, Verbena roast turkey with Hayman sweet potatoes flown in from the eastern shore of Virginia, raspberry soufflé, baked Alaska, zabaglione, pear torte, creme brulee; and the wines! and the brandies! and the port! the Sambuca! the cigars! and the decor! walls with lacquered woodwork and winking mirrors and sconces with little pleated peach-colored shades, all of it designed by the very same decorators who walked duchesses to parties for Halston on Eaton Square! and captains and maitre d's who made a fuss over you in movie French in front of your clients and friends and fellow overlords! it was Mount Olympus in mid-Manhattan every day from twelve-thirty to three P.M. and you emerged into the pearl-gray light of the city with such ambrosia pumping through your veins that even the clotted streets with the garbage men backing up their grinder trucks and yelling, \" 'Mon back, 'mon back, 'mon back, 'mon back,\" ' as if talking Urban Chippewa? even this became part of the bliss of one's eminence in the corporate world! There were many chief executive officers who kept their headquarters in New York long after the last rational reason for doing so had vanished...because of the ineffable experience of being a CEO and having lunch five days a week in Manhattan!\n",
            "\n",
            "At Intel lunch had a different look to it. You could tell when it was noon at Intel, because at noon men in white aprons arrived at the front entrance gasping from the weight of the trays they were carrying. The trays were loaded down with deli sandwiches and waxed cups full of drinks with clear plastic tops, with globules of Sprite or Diet Shasta sliding around the tops on the inside. That was your lunch. You ate some sandwiches made of roast beef or chicken sliced into translucent rectangles by a machine in a processing plant and then reassembled on the bread in layers that gave off dank whiffs of hormones and chemicals, and you washed it down with Sprite or Diet Shasta, and you sat amid the particle-board partitions and metal desktops, and you kept your mind on your committee meeting. That was what Noyce did, and that was what everybody else did.\n",
            "\n",
            "If Noyce called a meeting, then he set the agenda. But after that, everybody was an equal. If you were a young engineer and you had an idea you wanted to get across, you were supposed to speak up and challenge Noyce or anybody else who didn't get it right away. This was a little bit of heaven. You were face to face with the inventor, or the co-inventor, of the very road to El Dorado, and he was only forty-one years old, and he was listening to you. He had his head down and his eyes beamed up at you, and he was absorbing it all. He wasn't a boss. He was Gary Cooper! He was here to help you be self-reliant and do as much as you could on your own. This wasn't a corporation...it was a congregation.\n",
            "\n",
            "By the same token, there were sermons and homilies. At Intel everyone?Noyce included?was expected to attend sessions on \"the Intel Culture.\" At these sessions the principles by which the company was run were spelled out and discussed. Some of the discussions had to do specifically with matters of marketing or production. Others had to do with the broadest philosophical principles of Intel and were explained via the Socratic method at management seminars by Intel's number-three man, Andrew Grove.\n",
            "\n",
            "Grove would say, \"How would you sum up the Intel approach?\" Many hands would go up, and Grove would choose one, and the eager communicant would say: \"At Intel you don't wait for someone else to do it. You take the ball yourself and you run with it. \" And Grove would say, \"Wrong. At Intel you take the ball yourself and you let the air out and you fold the ball up and put it in your pocket. Then you take another ball and run with it and when you've crossed the goal you take the second ball out of your pocket and reinflate it and score twelve points instead of six.\"\n",
            "\n",
            "Grove was the most colorful person at Intel. He was a thin man in his mid-thirties with tight black curls all over his head. The curls ran down into a pair of mutton chops that seemed to run together like goulash with his mustache. Every day he wore either a turtleneck jersey or an open shirt with an ornamental chain twinkling on his chest. He struck outsiders as the epitome of a style of the early 1970s known as California Groovy. In fact, Grove was the epitome of the religious principle that the greater the freedom- for example, the freedom to dress as you pleased- the greater the obligation to exercise discipline. Grove's own groovy outfits were neat and clean. The truth was, he was a bit of a bear on the subject of neatness and cleanliness. He held what he called \"Mr. Clean inspections.\" showing up in various work areas wearing his mutton chops and handlebar mustache and his Harry Belafonte-cane cutter's shirt and the gleaming chain work, inspecting offices for books stacked too high, papers strewn over desktops, everything short of running a white glove over the shelves, as if this were some California Groovy Communal version of Parris Island, while the chain twinkled in his chest hairs. Grove was also the inspiration for such items as the performance ratings and the Late List. Each employee received a report card periodically with a grade based on certain presumably objective standards. The grades were superior, exceeds requirements, meets requirements, marginally meets requirements,and does not meet requirements. This was the equivalent of A, B, C, D, and F in school. Noyce was all for it. \"If you're ambitious and hardworking,\" he would say, \"you want to be told how you're doing.\" In Noyce's view, most of the young hotshots who were coming to work for Intel had never had the benefit of honest grades in their lives. In the late 1960s and early 1970s college faculties had been under pressure to give all students passing marks so they wouldn't have to go off to Vietnam, and they had caved in, until the entire grading system was meaningless. At Intel they would learn what measuring up meant. The Late List was also like something from a strict school. Everyone was expected at work at eight A.M. A record was kept of how many employees arrived after 8:10 A. M. If 7 percent or more were late for three months, then every body in the section had to start signing in. There was no inevitable penalty for being late, however. It was up to each department head to make of the Late List what he saw fit. If he knew a man was working overtime every night on a certain project, then his presence on the Late List would probably be regarded as nothing more than that, a line on a piece of paper. At bottomó and this was part of the Intel Cultureó Noyce and Grove knew that penalties were very nearly useless. Things like report cards and Late Lists worked only if they stimulated self-discipline.\n",
            "\n",
            "The worst form of discipline at Intel was to be called on the Antron II carpet before Noyce himself. Noyce insisted on ethical behavior in all dealings within the company and between companies. That was the word people used to describe his approach, ethical; that and moral. Noyce was known as a very aggressive businessman, but he stopped short of cutting throats, and he never talked about revenge. He would not tolerate peccadilloes such as little personal I'll-reimburse-it-on-Monday dips into the petty cash. Noyce's Strong Silent stare, his Gary Cooper approach, could be mortifying as well as inspiring. When he was angry, his baritone voice never rose. He seemed like a powerful creature that only through the greatest self-control was refraining from an attack. He somehow created the impression that if pushed one more inch, he wouid fight. As a consequence he seldom had to. No one ever trifled with Bob Noyce.\n",
            "\n",
            "Noyce managed to create an ethical universe within an inherently amoral setting: the American business corporation in the second half of the twentieth century. At Intel there was good and there was evil, and there was freedom and there was discipline, and to an extraordinary degree employees internalized these matters, as if members of Cromwell's army. As the work force grew at Intel, and the profits soared, labor unions, chiefly the International Association of Machinists and Aerospace Workers, the Teamsters, and the Stationary Engineers Union, made several attempts to organize Intel. Noyce made it known, albeit quietly, that he regarded unionization as a death threat to Intel, and to the semiconductor industry generally. Labor-management battles were part of the ancient terrain of the East. If Intel were divided into workers and bosses, with the implication that each side had to squeeze its money out of the hides of the other, the enterprise would be finished. Motivation would no longer be internal; it would be objectified in the deadly form of work rules and grievance procedures. The one time it came down to a vote, the union lost out by the considerable margin of four to one. Intel's employees agreed with Noyce. Unions were part of the dead hand of the past... Noyce and Intel were on the road to El Dorado.\n",
            "\n",
            "By the early 1970s Noyce and Moore's 1103 memory chip had given this brand-new company an entire corner of the semiconductor market. But that was only the start. Now a thirty-two-year-old Intel engineer named Ted Hoff came up with an invention as important as Noyce's integrated circuit had been a decade earlier: something small, dense, and hidden: the microprocessor. The microprocessor was known as \"the computer on a chip,\" it put all the arithmetic and logic functions of a computer on a chip the size of the head of a tack. The possibilities for creating and using small computers surpassed most people's imagining, even within the industry. One of the more obvious possibilities was placing a small computer in the steering and braking mechanisms of a car that would take over for the drive in case of a skid or excessive speed on a curve.\n",
            "\n",
            "In Ted Hoff, Noyce was looking at proof enough of his hypothesis that out here on the electrical frontier the great flashes came to the young. Hoff was about the same age Noyce had been when he invented his integrated circuit. The glory was now Hoff's. But Noyce took Hoff's triumph as proof of a second hypothesis. If you created the right type of corporate community, the right type of autonomous congregation, genius would flower. Certainly the corporate numbers were flowering. The news of the microprocessor, on top of the success of the 1103 memory chip nearly trebled the value of Intel stock from 1971 to 1973. Noyce's own holdings were now worth $18.5 million. He was in roughly the same position as Josiah Grinnell a hundred years before, when Grinnell brought the Rock Island Railroad into Iowa.\n",
            "\n",
            "Noyce continued to live in the house in the Los Altos hills that he had bought in 1960. He was not reluctant to spend his money; he was merely reluctant to show it. He spent a fortune on landscaping, but you could do that and the world would be none the wiser. Gradually the house disappeared from view behind an enormous wall of trees, tropical bushes, and cockatoo flowers. Noyce had a pond created on the back lawn, a waterscape elaborate enough to put on a bus tour, but nobody other than guests ever saw it. The lawn stretched on for several acres and had a tennis court, a swimming pool, and more walls of boughs and hot-pastel blossoms, and the world saw none of that, either.\n",
            "\n",
            "Noyce drove a Porsche roadster, and he didn't mind letting it out for a romp. Back east, when men made a great deal of money, they tended to put a higher and higher value on their own hides. Noyce, on the other hand, seemed to enjoy finding new ways to hang his out over the edge. He took up paragliding over the ski slopes at Aspen on a Rogolla wing. He built a Quicksilver hang glider and flew it off cliffs until a friend of his, a champion at the sport, fractured his pelvis and a leg flying a Quicksilver. He also took up scuba diving, and now he had his Porsche. The high performance foreign sports car became one of the signatures of the successful Silicon Valley entrepreneur. The sports car was perfect. Its richness consisted of engineering beneath the body shell. Not only that, the very luxury of a sports car was the experience of driving it yourself. A sports car didn't even suggest a life with servants. Porsches and Ferraris became the favorites. By 1975 the Ferrari agency in Los Gatos was the second biggest Ferrari agency on the West Coast. Noyce also bought a 1947 Republic Seabee amphibious airplane, so that he could take the family for weekends on the lakes in northern California. He now had two aircraft, but he flew the ships himself.\n",
            "\n",
            "Noyce was among the richest individuals on the San Francisco Peninsula, as well as the most important figure in the Silicon Valley, but his name seldom appeared in the San Francisco newspapers. When it did, it was in the business section, not on the society page. That, too, became the pattern for the new rich of the Silicon Valley. San Francisco was barely forty-five minutes up the Bayshore Freeway from Los Altos, but psychologically San Francisco was an entire continent away. It was a city whose luminaries kept looking back east, to New York, to see if they were doing things correctly.\n",
            "\n",
            "In 1974 Noyce wound up in a situation that to some seemed an all-too-typical Mid-life in the Silicon Valley story. He and Betty, his wife of twenty-one years, were divorced, and the following year he \"intramarried.\" Noyce, who was forty-seven, married Intel's personnel director, Ann Bowers, who was thirty-seven. The divorce was mentioned in the San Francisco Chronicle, but not as a social note. It was a major business story. Under California law, Betty received half the family's assets. When word got out that she was going to sell off $6 million of her Intel stock in the interest of diversifying her fortune, it threw the entire market in Intel stock into a temporary spin. Betty left California and went to live in a village on the coast of Maine. Noyce kept the house in Los Altos.\n",
            "\n",
            "By this time, the mid-1970s, the Silicon Valley had become the late-twentieth-century-California version of a new city, and Noyce and other entrepreneurs began to indulge in some introspection. For ten years, thanks to racial hostilities and the leftist politics of the antiwar movement, the national press had dwelled on the subject of ethnic backgrounds. This in itself tended to make the engineers and entrepreneurs of the Silicon Valley conscious of how similar most of them were. Most of the major figures, like Noyce himself, had grown up and gone to college in small towns in the Middle West and the West. John Bardeen had grown up in and gone to college in Madison, Wisconsin. Walter Brattain had grown up in and gone to college in Washington. Shockley grew up in Palo Alto at a time when it was a small college town and went to the California Institute of Technology. Jack Kilby was born in Jefferson City, Missouri, and went to college at the University of Illinois. William Hewlett was born in Ann Arbor and went to school at Stanford. David Packard grew up in Pueblo, Colorado, and went to Stanford. Oliver Buckley grew up in Sloane, Iowa, and went to college at Grinnell. Lee De Forest came from Council Bluffs, Iowa (and went to Yale). And Thomas Edison grew up in Port Huron Michigan, and didn't go to college at all.\n",
            "\n",
            "Some of them, such as Noyce and Shockley, had gone east to graduate school at MIT, since it was the most prestigious engineering school in the United States. But MIT had proved to be a backwater... the sticks... when it came to the most advanced form of engineering, solid-state electronics. Grinnell College, with its one thousand students, had been years ahead of MIT. The picture had been the same on the other great frontier of technology in the second half of the twentieth century, namely, the space program. The engineers who fulfilled one of man's most ancient dreams, that of traveling to the moon, came from the same background, the small towns of the Midwest and the West. After the triumph of Apollo 11, when Neil Armstrong and Buzz Aldrin became the first mortals to walk on the moon, NASA's administrator, Tom Paine, happened to remark in conversation: \"This was the triumph of the squares. \" A reporter overheard him; and did the press ever have a time with that! But Paine had come up with a penetrating insight. As it says in the Book of Matthew, the last shall be first. It was engineers from the supposedly backward and narrow-minded boondocks who had provided not only the genius but also the passion and the daring that won the space race and carried out John F. Kennedy's exhortation, back in 1961. to put a man on the moon \"before this decade is out.\" The passion and the daring of these engineers was as remarkable as their talent. Time after time they had to shake off the meddling hands of timid souls from back east. The contribution of MIT to Project Mercury was minus one. The minus one was Jerome Wiesner of the MIT electronic research lab who was brought in by Kennedy as a special adviser to straighten out the space program when it seemed to be faltering early in 1961. Wiesner kept flinching when he saw what NASA's boondockers were preparing to do. He tried to persuade to forfeit the manned space race to the Soviets and concentrate instead on unmanned scientific missions. The boondockers of Project Mercury, starting with the project's director, Bob Gilruth, an aeronautical engineer from Nashwauk, Minnesota, dodged Wiesner for months, like moonshiners evading a roadblock, until they got astronaut Alan Shepard launched on the first Mercury mission. Who had time to waste on players as behind the times as Jerome Wiesner and the Massachusetts Institute of Technology...out here on technology's leading edge?\n",
            "\n",
            "Just why was it that small-town boys from the Middle West dominated the engineering frontiers? Noyce concluded it was because in a small town you became a technician, a tinker, an engineer, and an and inventor, by necessity.\n",
            "\n",
            "\"In a small town,\" Noyce liked to say, \"when something breaks down, you don't wait around for a new part, because it's not coming. You make it yourself.\"\n",
            "\n",
            "Yet in Grinnell necessity had been the least of the mothers of invention. There had been something else about Grinnell, something people Noyce's age could feel but couldn't name. It had to do with the fact that Grinnell had once been a religious community; not merely a town with a church but a town that was inseparable from the church. In Josiah Grinnell's day most of the towns people were devout Congregationalists, and the rest were smart enough to act as if they were. Anyone in Grinnell who aspired to the status of feed store clerk or better joined the First Congregational Church. By the end of the Second World War educated people in Grinnell, and in all the Grinnells of the Middle West, had begun to drop this side of their history into a lake of amnesia. They gave in to the modern urge to be urbane. They themselves began to enjoy sniggering over Sherwood Anderson's Winesburg, Ohio, Sinclair Lewis's Main Street, and Grant Wood's American Gothic. Once the amnesia set in, all they remembered from the old days were the austere moral codes, which in some cases still hung on. Josiah Grinnell's real estate covenants prohibiting drinking, for example.... Just imagine! How absurd it was to see these unburied bones of something that had once been strong and alive.\n",
            "\n",
            "That something was Dissenting Protestantism itself. Oh, it had once been quite strong and very much alive! The passion, the exhilaration, of those early days was what no one could any longer recall. To be a believing Protestant in a town such as Grinnell in the middle of the nineteenth century was to experience a spiritual ecstasy greater than any that the readers of Main Street or the viewers of American Gothic were likely to know in their lifetimes. Josiah Grinnell had gone to Iowa in 1854 to create nothing less than a City of Light. He was a New Englander who had given up on the East. He had founded the first Congregational church in Washington, DC., and then defected from it when the congregation, mostly southerners, objected to his antislavery views. He went to New York and met the famous editor of the New York Herald, Horace Greeley. It was while talking to Josiah Grinnell, who was then thirty-two and wondering what to do with his life, that Greeley uttered the words for which he would be remembered forever after: \"Go west young man, go west.\" So Grinnell went to Iowa, and he and three friends bought up five thousand acres of land in order to start up a congregational community the way he thought it should be done. A City of Light! The first thing he organized was the congregation. The second was the college. Oxford and Cambridge had started banning Dissenting Protestants in the seventeenth century; Dissenters founded their own schools and colleges. Grinnell became a champion of \"free schools,\" and it was largely thanks to him that Iowa had one of the first and best public-school systems in the west. To this day Iowa has the highest literacy rate of any state. In the 1940s a bright youngster whose parents were not rich, such as Bob Noyce or his brother Donald, was far more likely to receive a superior education in Iowa than in Massachusetts.\n",
            "\n",
            "And if he was extremely bright, if he seemed to have the quality known as genius, he was infinitely more likely to go into engineering in Iowa, or Illinois or Wisconsin, then anywhere in the East. Back east engineering was an unfashionable field. The east looked to Europe in matters of intellectual fashion, and in Europe the ancient aristocratic bias against manual labor lived on. Engineering was looked upon as nothing more than manual labor raised to the level of a science. There was \"pure\" science and there was engineering, which was merely practical. Back east engineers ranked, socially, below lawyers; doctors; army colonels; Navy captains; English, history, biology, chemistry, and physics professors; and business executives. This piece of European snobbery that said a scientist was lowering himself by going into commerce. Dissenting Protestants looked upon themselves as secular saints, men and women of God who did God's work not as penurious monks and nuns but as successful workers in the everyday world. To be rich and successful was even better, and just as righteous. One of Josiah Grinnell's main projects was to bring the Rock Island Railroad into Iowa. Many in his congregation became successful farmers of the gloriously fertile soil around Grinnell. But there was no sense of rich and poor. All the congregation opened up the virgin land in a common struggle out on the frontier. They had given up the comforts of the East ... in order to create a City of Light in the name of the Lord. Every sacrifice, every privation, every denial of the pleasures of the flesh, brought them closer to that state of bliss in which the light of God shines forth from the apex of the soul. What were the momentary comforts and aristocratic poses of the East...compared to this? Where would the fleshpots back east be on that day when the heavens opened up and a light fell 'round about them and a voice from on high said: \"Why mockest thou me?\" The light! The light! Who, if he had ever known that glorious light, if he had ever let his soul burst forth into that light, could ever mock these, my very seed, with a Main Street or an American Gothic! There, in Grinnell, reigned the passion that enabled men and women to settle the West in the nineteenth century against the most astonishing odds and in the face of overbearing hardships.\n",
            "\n",
            "By the standards of St. Francis of Assisi or St. Jerome, who possessed nothing beyond the cloak of righteousness, Josiah Grinnell was a very secular saint, indeed. And Robert Noyce's life was a great deal more secular than Josiah Grinnell's. Noyce had wandered away from the church itself. He smoked. He took a drink when he felt like it. He had gotten a divorce. Nevertheless, when Noyce went west, he brought Grinnell with him... unaccountably sewn into the lining of his coat!\n",
            "\n",
            "In the last stage of his career Josiah Grinnell had turned from the building of his community to broader matters affecting Iowa and the Middle West. In 1863 he became one of midland Iowa's representatives in Congress. Likewise, in 1974 Noyce turned over the actual running of Intel to Gordon Moore and Andrew Grove and kicked himself upstairs to become chairman of the board. His major role became that of spokesman for the Silicon Valley and the electronic frontier itself. He became chairman of the Semiconductor Industry Association. He led the industry's campaign to deal with the mounting competition from Japan. He was awarded the National Medal of Science in a White House ceremony in 1980. He was appointed to the University of California Board of Regents in 1982 and inducted into the National Inventors Hall of Fame in February 1983. By now Intel's sales had grown from $64 million in 1973 to almost a billion a year. Noyce's own fortune was incalculable. (Grinnell College's $300,000 investment in Intel had multiplied in value more than thirty times, despite some sell-offs, almost doubling the college's endowment. ) Noyce was hardly a famous man in the usual sense, however. He was practically unknown to the general public. But among those who followed the semiconductor industry he was a legend. He was certainly famous back east on Wall Street. When a reporter asked James Magid of the underwriting firm of L. F. Rothschild, Unterberg, Towbin about Noyce, he said: \"Noyce is a national treasure.\"\n",
            "\n",
            "Oh yes! What a treasure, indeed, was the moral capital of the nineteenth century? Noyce happened to grow up in a family in which the long-forgotten light of Dissenting Protestantism still burned brightly. The light, the light at the apex of every human soul! Ironically, it was that long-forgotten light...from out of the churchy, blue-nosed sticks. . . that led the world into the twenty-first century, across the electronic grid and into space.\n",
            "\n",
            "Surely the moral capital of the nineteenth century is by now all but completely spent. Robert Noyce turns fifty-six this month, and his is the last generation to have grown up in families where the light existed in anything approaching a pure state. And yet out in the Silicon Valley some sort of light shines still. People who run even the newest companies in the Valley repeat Noycisms with conviction and with relish. The young CEOs all say: \"Datadyne is not a corporation, it's a culture, \" or \"Cybernetek is not a corporation, it's a society, \" or \"Honey Bear's assets\"? the latest vogue is for down-home nontech names?\"Honey Bear's assets aren't hardware, they're the software of the three thousand souls who work here.\" They talk about the soul and spiritual vision as if it were the most natural subject in the world for a well-run company to be concerned about.\n",
            "\n",
            "On June 8, 1983, one of the Valley's new firms, Eagle Computer. Inc., sold its stock to the pubic for the first time. Investors went for it like the answer to a dream. At the close of trading on the stock market, the company's forty-year-old CEO, Dennis Barnhart, was suddenly worth nine million dollars. Four and a half hours later he and a pal took his Ferrari out for a little romp, hung their hides out over the edge, lost control on a curve in Los Gatos, and went through a guardrail, and Barnhart was killed. Naturally, that night people in the business could talk of very little else. One of the best-known CEOs in the Valley said, \"It's the dark side of the Force.\" He said it without a trace of irony, and his friends nodded in contemplation. They knew exactly what Force he meant.\n"
          ]
        }
      ]
    },
    {
      "cell_type": "code",
      "source": [
        "import nltk\n",
        "nltk.download('punkt')\n",
        "sentences = nltk.tokenize.sent_tokenize(FileContent)"
      ],
      "metadata": {
        "colab": {
          "base_uri": "https://localhost:8080/",
          "height": 53
        },
        "id": "miOWhYvY0ygt",
        "outputId": "64a3068c-61ff-41c1-a236-924991d8cf9d"
      },
      "execution_count": null,
      "outputs": [
        {
          "output_type": "display_data",
          "data": {
            "text/plain": [
              "<IPython.core.display.HTML object>"
            ],
            "text/html": [
              "\n",
              "  \n",
              "  "
            ]
          },
          "metadata": {}
        },
        {
          "output_type": "stream",
          "name": "stderr",
          "text": [
            "[nltk_data] Downloading package punkt to /root/nltk_data...\n",
            "[nltk_data]   Package punkt is already up-to-date!\n"
          ]
        }
      ]
    },
    {
      "cell_type": "code",
      "source": [
        "# find the max tokens in the longest sentence\n",
        "max([len(tokenizer.tokenize(sentence)) for sentence in sentences])"
      ],
      "metadata": {
        "colab": {
          "base_uri": "https://localhost:8080/",
          "height": 35
        },
        "id": "g8qBkQrr1HWS",
        "outputId": "15fe1d12-65bb-4a69-c111-6bf19ea889f4"
      },
      "execution_count": null,
      "outputs": [
        {
          "output_type": "display_data",
          "data": {
            "text/plain": [
              "<IPython.core.display.HTML object>"
            ],
            "text/html": [
              "\n",
              "  \n",
              "  "
            ]
          },
          "metadata": {}
        },
        {
          "output_type": "execute_result",
          "data": {
            "text/plain": [
              "151"
            ]
          },
          "metadata": {},
          "execution_count": 12
        }
      ]
    },
    {
      "cell_type": "code",
      "source": [
        "len(sentences)"
      ],
      "metadata": {
        "colab": {
          "base_uri": "https://localhost:8080/",
          "height": 35
        },
        "id": "4tiz0SBP3-AE",
        "outputId": "fd8fdc71-bfc5-42ff-d5c8-a16fb28e4380"
      },
      "execution_count": null,
      "outputs": [
        {
          "output_type": "display_data",
          "data": {
            "text/plain": [
              "<IPython.core.display.HTML object>"
            ],
            "text/html": [
              "\n",
              "  \n",
              "  "
            ]
          },
          "metadata": {}
        },
        {
          "output_type": "execute_result",
          "data": {
            "text/plain": [
              "972"
            ]
          },
          "metadata": {},
          "execution_count": 13
        }
      ]
    },
    {
      "cell_type": "code",
      "source": [
        "#creating chunks\n",
        "# initialize\n",
        "length = 0\n",
        "chunk = \"\"\n",
        "chunks = []\n",
        "count = -1\n",
        "for sentence in sentences:\n",
        "  count += 1\n",
        "  combined_length = len(tokenizer.tokenize(sentence)) + length # add the no. of sentence tokens to the length counter\n",
        "\n",
        "  if combined_length  <= tokenizer.max_len_single_sentence: # if it doesn't exceed\n",
        "    chunk += sentence + \" \" # add the sentence to the chunk  \n",
        "    length = combined_length # update the length counter\n",
        "\n",
        "    # if it is the last sentence\n",
        "    if count == len(sentences) - 1:\n",
        "      chunks.append(chunk.strip()) # save the chunk\n",
        "    \n",
        "  else: \n",
        "    chunks.append(chunk.strip()) # save the chunk\n",
        "    \n",
        "    # reset \n",
        "    length = 0 \n",
        "    chunk = \"\"\n",
        "\n",
        "    # take care of the overflow sentence\n",
        "    chunk += sentence + \" \"\n",
        "    length = len(tokenizer.tokenize(sentence))\n",
        "len(chunks)"
      ],
      "metadata": {
        "colab": {
          "base_uri": "https://localhost:8080/",
          "height": 35
        },
        "id": "WkhNPkjT4DkW",
        "outputId": "5c65982c-e9fb-43aa-b2fe-7ec4c47e3578"
      },
      "execution_count": null,
      "outputs": [
        {
          "output_type": "display_data",
          "data": {
            "text/plain": [
              "<IPython.core.display.HTML object>"
            ],
            "text/html": [
              "\n",
              "  \n",
              "  "
            ]
          },
          "metadata": {}
        },
        {
          "output_type": "execute_result",
          "data": {
            "text/plain": [
              "23"
            ]
          },
          "metadata": {},
          "execution_count": 14
        }
      ]
    },
    {
      "cell_type": "code",
      "source": [
        "\n",
        "[len(tokenizer.tokenize(c)) for c in chunks]"
      ],
      "metadata": {
        "colab": {
          "base_uri": "https://localhost:8080/",
          "height": 433
        },
        "id": "3pS07eUc4a7Z",
        "outputId": "42ee16af-6245-4d15-91d5-506557cdccf0"
      },
      "execution_count": null,
      "outputs": [
        {
          "output_type": "display_data",
          "data": {
            "text/plain": [
              "<IPython.core.display.HTML object>"
            ],
            "text/html": [
              "\n",
              "  \n",
              "  "
            ]
          },
          "metadata": {}
        },
        {
          "output_type": "execute_result",
          "data": {
            "text/plain": [
              "[1002,\n",
              " 1011,\n",
              " 1018,\n",
              " 999,\n",
              " 1021,\n",
              " 1012,\n",
              " 1002,\n",
              " 1002,\n",
              " 992,\n",
              " 1002,\n",
              " 1010,\n",
              " 977,\n",
              " 1014,\n",
              " 1021,\n",
              " 1012,\n",
              " 1005,\n",
              " 992,\n",
              " 991,\n",
              " 1019,\n",
              " 1006,\n",
              " 1012,\n",
              " 989,\n",
              " 809]"
            ]
          },
          "metadata": {},
          "execution_count": 15
        }
      ]
    },
    {
      "cell_type": "code",
      "source": [
        "# inputs to the model\n",
        "inputs = [tokenizer(chunk, return_tensors=\"pt\") for chunk in chunks]"
      ],
      "metadata": {
        "colab": {
          "base_uri": "https://localhost:8080/",
          "height": 17
        },
        "id": "ErzhuZ7E6tEC",
        "outputId": "cbf82253-8067-4cf4-e04d-eff02efc2d12"
      },
      "execution_count": null,
      "outputs": [
        {
          "output_type": "display_data",
          "data": {
            "text/plain": [
              "<IPython.core.display.HTML object>"
            ],
            "text/html": [
              "\n",
              "  \n",
              "  "
            ]
          },
          "metadata": {}
        }
      ]
    },
    {
      "cell_type": "code",
      "source": [
        "for input in inputs:\n",
        "  output = model.generate(**input)\n",
        "  print(tokenizer.decode(*output, skip_special_tokens=True))"
      ],
      "metadata": {
        "colab": {
          "base_uri": "https://localhost:8080/",
          "height": 490
        },
        "id": "r3gamz0V7V1W",
        "outputId": "ac23293a-ca16-4860-8519-4dd41bd0ee8b"
      },
      "execution_count": null,
      "outputs": [
        {
          "output_type": "display_data",
          "data": {
            "text/plain": [
              "<IPython.core.display.HTML object>"
            ],
            "text/html": [
              "\n",
              "  \n",
              "  "
            ]
          },
          "metadata": {}
        },
        {
          "output_type": "stream",
          "name": "stderr",
          "text": [
            "/usr/local/lib/python3.8/dist-packages/transformers/generation/utils.py:1273: UserWarning: Neither `max_length` nor `max_new_tokens` has been set, `max_length` will default to 142 (`generation_config.max_length`). Controlling `max_length` via the config is deprecated and `max_length` will be removed from the config in v5 of Transformers -- we recommend using `max_new_tokens` to control the maximum length of the generation.\n",
            "  warnings.warn(\n"
          ]
        },
        {
          "output_type": "stream",
          "name": "stdout",
          "text": [
            " In 1948, Grinnell, Iowa, was one of the last towns in America that people back east would have figured to become the starting point of a bolt into the future that would create the substructure, the electronic grid, of life in the year 2000 and beyond. The town had voted Republican in every presidential election since the first time Abraham Lincoln ran, in 1860.\n",
            " Bob Noyce's father, Ralph Sr. was a Congregational minister, his grandfather was a minister. Bob was thrown out of school for a semester because of his clerical lineage. Bob's father was an associate superintendent of the Iowa Conference of Congregations. Bob and his brothers lived just down Park Street and used to rake leaves, mow the lawn, baby-sit, and do other chores for the Gales.\n",
            " Bob Noyce was the star diver on the college swimming team and won the Midwest Conference championship in 1947. He sang in choral groups, played the oboe, and was an actor with the college dramatic society. In May 1948 a group of Bob's friends decided to have a luau in one of the dormitory houses at Grinnell's dormitory. Bob was one of two boys assigned to procure two pig in the South, so that in 1948 he was assigned two boys to procure the pig.\n",
            " Bob Noyce stole a pig from a farm outside of Grinnell, Iowa, stealing a watermelon worth thirty-five cents. The farmer got the sheriff and insisted on bringing criminal charges. Grant Gale, the calm, well-respected third party, helped keep Bob out of jail and out of court. Bob was impressed by the aplomb with which the prodigal returned.\n",
            " Bob Noyce was offered jobs by Bell Laboratories, IBM, RCA, Philco, and Philco. In 1953 he went over to Tufts College to sing and act in a program of musicals presented by the college. In 1956 he joined Shockley Semiconductor Laboratory in Palo Alto, California. Shockley had devised the first theoretical framework for research into solid-state semiconductors as far back as 1939.\n",
            " On November 1,1956, Shockley arrived at the shed on South San Antonio Road beaming. He had received a telephone call informing him that he had won the Nobel Prize for physics for the invention of the transistor. Shockley's father was a mining engineer who spent years out on remote durango terrain, in Nevada, Manchuria and all over the world.\n",
            " Ex-Bell Labs employee Noyce was unhappy with the job he was doing at Bell Labs. He and seven other engineers decided to start their own semiconductor company. The idea of defection capital became one of the primary business concepts of the semiconductor industry. Fairchild Semiconductor gave up the money to start up the new company.\n",
            " Noyce, Gordon Moore, Jean Hoerni and the other five defectors set up Fairchild Semiconductor in a two-story warehouse building in Mountain View, about twelve blocks from Shockley's operation. Shockley had been the first entrepreneur to come to the Santa Clara Valley to make semiconductors. After Sputnik the glamorous words in the semiconductor business were computers and miniaturization.\n",
            " Jack Kilby invented the first solid-state circuit in 1959. Jack Noyce created a similar integrated circuit made of silicon and using a novel insulating process developed by Jean Hoerni. The integrated circuit opened up every field of engineering imaginable, from voyages to the moon to robots. The importance of the integrated circuit was certainly not lost on John Carter and Fairchild Camera.\n",
            " Bob Noyce started working for Fairchild Semiconductor in 1957 for twelve thousand dollars a year. He and his wife bought a California version of a French country house in Los Altos, a white stucco house with a steeply pitched roof. NASA chose his integrated circuits for the first computers that astronauts would use on board their spacecraft (in the Gemini program)\n",
            " A limousine and a chauffeur were seen at Fairchild Semiconductor in the early 1960s. John Carter was inside having a terrific chief executive officer's time for himself. The driver sat out there all day engaged in the task of supporting a visored cap with his head. Noyce hated the eastern corporate system of class and status.\n",
            " Noyce recruited engineers right out of the colleges and graduate schools and gave them major responsibilities right off the bat. There was no \"staff,\" no \"top management\" other than the eight partners themselves. Fairchild was unable to coast on the tremendous advantage Noycé's invention of the integrated circuit. Competitors were setting up shop in the Santa Clara Valley like gold rushers.\n",
            " In 1959 Noyce's invention made it possible to put an entire electrical circuit on a chip of silicon the size of a fingernail. In the Silicon Valley, an engineer was under pressure to reinvent the silicon chip every six months. The new breed of Silicon Valley lived for work. They were disciplined to the point of back spasms.\n",
            " Bob Noyce used to go into a slow burn that year, 1968, when the newspapers, the magazines, and the television networks got on the subject of the youth. The youth was a favorite topic in 1968. The Yippies, supposedly a coalition of hippies and campus activists, managed to sabotage the Democratic National Convention by setting off some highly televised street riots. The French writer Jean-Francois Revel toured American campuses and called the radical youth homo novus, \"the New Man,\" as if they were the latest, most advanced product of human evolution itself.\n",
            " Fairchild Semiconductor had generated tremendous profits for the parent company back east. Fairchild was rather enlightened, for an eastern corporation, but there was no one back east who understood how to run a corporation in the United States in the second half of the twentieth century. Noyce and Gordon Moore decided to form their own company.\n",
            " Noyce and Moore developed the 1103 memory chip, a chip of silicon and polysilicon the size of two letters in a line of type. The chip opened up such a lucrative field that other companies, including Fairchild, fought desperately just to occupy the number-two position. At the end of the first year in business, sales totaled less than three thousand dollars and the work force numbered forty-two.\n",
            " At Intel executives would not be walled off in offices. There would be nothing but low partitions to separate Noyce or anyone else from the lowliest stock boys. There were no executive lunches at Intel. Back east executives treated lunch as a daily feast of the nobility, a sumptuous celebration of their eminence.\n",
            " At Intel everyone?Noyce included?was expected to attend sessions on \"the Intel Culture\" At these sessions the principles by which the company was run were spelled out and discussed. Intel's number-three man, Andrew Grove, was the most colorful person at Intel. Grove was the epitome of a style of the early 1970s known as California Groovy.\n",
            " Bob Noyce created an ethical universe within an inherently amoral setting: the American business corporation in the second half of the twentieth century. At Intel there was good and evil, and there was freedom and discipline, and to an extraordinary degree employees internalized these matters, as if members of Cromwell's army. By the early 1970s, Intel had given this brand-new company an entire corner of the semiconductor market.\n",
            " Noyce was among the richest individuals on the San Francisco Peninsula, as well as the most important figure in the Silicon Valley. He and his wife of twenty-one years, Betty, were divorced, and the following year he \"intramarried\" The Silicon Valley had become the late-twentieth-century-California version of a new city.\n",
            " Frida Ghitis: The engineers who fulfilled man's most ancient dreams of traveling to the moon came from small towns of the Midwest and the West. She says MIT proved to be a backwater... the sticks... when it came to the most advanced form of engineering, solid-state electronics. The passion and the daring of these engineers was as remarkable as their talent, Ghitis says.\n",
            " Josiah Grinnell went to Iowa in 1854 to create nothing less than a City of Light. He was a New Englander who had given up on the East. He founded the first Congregational church in Washington, DC., and defected from it when the congregation objected to his antislavery views.\n",
            " Robert Noyce turned over the actual running of Intel to Gordon Moore and Andrew Grove and kicked himself upstairs to become chairman of the board. His major role became that of spokesman for Silicon Valley and the electronic frontier itself. He was awarded the National Medal of Science in a White House ceremony in 1980.\n"
          ]
        }
      ]
    },
    {
      "cell_type": "markdown",
      "source": [
        "вывод: большой объем полученнного текста из-за количества фрагментов(chunks), по каждому из которых составляется сжатие. Предложения добавляются в исходные фрагменты, пока во фрагменте не наберется максимальное количество токенов в предложении (tokenizer.max_len_single_sentence )."
      ],
      "metadata": {
        "id": "nLzGFphP_fw_"
      }
    },
    {
      "cell_type": "markdown",
      "source": [
        "Источник: https://www.youtube.com/watch?v=78KjuKYiF6s"
      ],
      "metadata": {
        "id": "R5SXqy6DAePo"
      }
    },
    {
      "cell_type": "code",
      "source": [],
      "metadata": {
        "id": "uSNxB_ESAjA7"
      },
      "execution_count": null,
      "outputs": []
    }
  ]
}